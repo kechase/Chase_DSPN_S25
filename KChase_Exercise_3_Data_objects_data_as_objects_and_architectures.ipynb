{
  "cells": [
    {
      "cell_type": "markdown",
      "metadata": {
        "id": "view-in-github",
        "colab_type": "text"
      },
      "source": [
        "<a href=\"https://colab.research.google.com/github/kechase/Chase_DSPN_S25/blob/master/KChase_Exercise_3_Data_objects_data_as_objects_and_architectures.ipynb\" target=\"_parent\"><img src=\"https://colab.research.google.com/assets/colab-badge.svg\" alt=\"Open In Colab\"/></a>"
      ]
    },
    {
      "cell_type": "markdown",
      "metadata": {
        "id": "-2W919d2ZXp7"
      },
      "source": [
        "# Exercise 3: Data objects"
      ]
    },
    {
      "cell_type": "markdown",
      "metadata": {
        "id": "L4nOzVhyZXqK"
      },
      "source": [
        "These exercises are designed to get you comfortable extracting information from data objects.\n",
        "\n",
        "We'll work with the `Credit` dataset which comes in the `ISLR` package in R. This is a simulated dataset that provides credit and demographic information on 10,000 hypothetical customers."
      ]
    },
    {
      "cell_type": "markdown",
      "metadata": {
        "id": "9DsyBTB6ZXqN"
      },
      "source": [
        "---\n",
        "## 1. Load packages, data, model (1 point)\n",
        "\n",
        "Install and load `ISLR` below."
      ]
    },
    {
      "cell_type": "code",
      "execution_count": 68,
      "metadata": {
        "id": "UnBVazYfZXqP",
        "scrolled": true,
        "vscode": {
          "languageId": "r"
        },
        "colab": {
          "base_uri": "https://localhost:8080/"
        },
        "outputId": "85947160-b144-4572-8543-995d673af23f"
      },
      "outputs": [
        {
          "output_type": "stream",
          "name": "stderr",
          "text": [
            "Installing package into ‘/usr/local/lib/R/site-library’\n",
            "(as ‘lib’ is unspecified)\n",
            "\n"
          ]
        }
      ],
      "source": [
        "install.packages(\"ISLR\")\n",
        "library(ISLR)"
      ]
    },
    {
      "cell_type": "markdown",
      "metadata": {
        "id": "PczFv9O8Y4wh"
      },
      "source": [
        "Take a look at the first few rows of the `Credit` dataset."
      ]
    },
    {
      "cell_type": "code",
      "execution_count": 69,
      "metadata": {
        "scrolled": true,
        "vscode": {
          "languageId": "r"
        },
        "id": "ZOZxH1D6Y4wh",
        "colab": {
          "base_uri": "https://localhost:8080/",
          "height": 306
        },
        "outputId": "dc6c87bb-7284-49a4-8702-990fba8041c1"
      },
      "outputs": [
        {
          "output_type": "display_data",
          "data": {
            "text/html": [
              "<table class=\"dataframe\">\n",
              "<caption>A data.frame: 6 × 12</caption>\n",
              "<thead>\n",
              "\t<tr><th></th><th scope=col>ID</th><th scope=col>Income</th><th scope=col>Limit</th><th scope=col>Rating</th><th scope=col>Cards</th><th scope=col>Age</th><th scope=col>Education</th><th scope=col>Gender</th><th scope=col>Student</th><th scope=col>Married</th><th scope=col>Ethnicity</th><th scope=col>Balance</th></tr>\n",
              "\t<tr><th></th><th scope=col>&lt;int&gt;</th><th scope=col>&lt;dbl&gt;</th><th scope=col>&lt;int&gt;</th><th scope=col>&lt;int&gt;</th><th scope=col>&lt;int&gt;</th><th scope=col>&lt;int&gt;</th><th scope=col>&lt;int&gt;</th><th scope=col>&lt;fct&gt;</th><th scope=col>&lt;fct&gt;</th><th scope=col>&lt;fct&gt;</th><th scope=col>&lt;fct&gt;</th><th scope=col>&lt;int&gt;</th></tr>\n",
              "</thead>\n",
              "<tbody>\n",
              "\t<tr><th scope=row>1</th><td>1</td><td> 14.891</td><td>3606</td><td>283</td><td>2</td><td>34</td><td>11</td><td> Male </td><td>No </td><td>Yes</td><td>Caucasian</td><td> 333</td></tr>\n",
              "\t<tr><th scope=row>2</th><td>2</td><td>106.025</td><td>6645</td><td>483</td><td>3</td><td>82</td><td>15</td><td>Female</td><td>Yes</td><td>Yes</td><td>Asian    </td><td> 903</td></tr>\n",
              "\t<tr><th scope=row>3</th><td>3</td><td>104.593</td><td>7075</td><td>514</td><td>4</td><td>71</td><td>11</td><td> Male </td><td>No </td><td>No </td><td>Asian    </td><td> 580</td></tr>\n",
              "\t<tr><th scope=row>4</th><td>4</td><td>148.924</td><td>9504</td><td>681</td><td>3</td><td>36</td><td>11</td><td>Female</td><td>No </td><td>No </td><td>Asian    </td><td> 964</td></tr>\n",
              "\t<tr><th scope=row>5</th><td>5</td><td> 55.882</td><td>4897</td><td>357</td><td>2</td><td>68</td><td>16</td><td> Male </td><td>No </td><td>Yes</td><td>Caucasian</td><td> 331</td></tr>\n",
              "\t<tr><th scope=row>6</th><td>6</td><td> 80.180</td><td>8047</td><td>569</td><td>4</td><td>77</td><td>10</td><td> Male </td><td>No </td><td>No </td><td>Caucasian</td><td>1151</td></tr>\n",
              "</tbody>\n",
              "</table>\n"
            ],
            "text/markdown": "\nA data.frame: 6 × 12\n\n| <!--/--> | ID &lt;int&gt; | Income &lt;dbl&gt; | Limit &lt;int&gt; | Rating &lt;int&gt; | Cards &lt;int&gt; | Age &lt;int&gt; | Education &lt;int&gt; | Gender &lt;fct&gt; | Student &lt;fct&gt; | Married &lt;fct&gt; | Ethnicity &lt;fct&gt; | Balance &lt;int&gt; |\n|---|---|---|---|---|---|---|---|---|---|---|---|---|\n| 1 | 1 |  14.891 | 3606 | 283 | 2 | 34 | 11 |  Male  | No  | Yes | Caucasian |  333 |\n| 2 | 2 | 106.025 | 6645 | 483 | 3 | 82 | 15 | Female | Yes | Yes | Asian     |  903 |\n| 3 | 3 | 104.593 | 7075 | 514 | 4 | 71 | 11 |  Male  | No  | No  | Asian     |  580 |\n| 4 | 4 | 148.924 | 9504 | 681 | 3 | 36 | 11 | Female | No  | No  | Asian     |  964 |\n| 5 | 5 |  55.882 | 4897 | 357 | 2 | 68 | 16 |  Male  | No  | Yes | Caucasian |  331 |\n| 6 | 6 |  80.180 | 8047 | 569 | 4 | 77 | 10 |  Male  | No  | No  | Caucasian | 1151 |\n\n",
            "text/latex": "A data.frame: 6 × 12\n\\begin{tabular}{r|llllllllllll}\n  & ID & Income & Limit & Rating & Cards & Age & Education & Gender & Student & Married & Ethnicity & Balance\\\\\n  & <int> & <dbl> & <int> & <int> & <int> & <int> & <int> & <fct> & <fct> & <fct> & <fct> & <int>\\\\\n\\hline\n\t1 & 1 &  14.891 & 3606 & 283 & 2 & 34 & 11 &  Male  & No  & Yes & Caucasian &  333\\\\\n\t2 & 2 & 106.025 & 6645 & 483 & 3 & 82 & 15 & Female & Yes & Yes & Asian     &  903\\\\\n\t3 & 3 & 104.593 & 7075 & 514 & 4 & 71 & 11 &  Male  & No  & No  & Asian     &  580\\\\\n\t4 & 4 & 148.924 & 9504 & 681 & 3 & 36 & 11 & Female & No  & No  & Asian     &  964\\\\\n\t5 & 5 &  55.882 & 4897 & 357 & 2 & 68 & 16 &  Male  & No  & Yes & Caucasian &  331\\\\\n\t6 & 6 &  80.180 & 8047 & 569 & 4 & 77 & 10 &  Male  & No  & No  & Caucasian & 1151\\\\\n\\end{tabular}\n",
            "text/plain": [
              "  ID Income  Limit Rating Cards Age Education Gender Student Married Ethnicity\n",
              "1 1   14.891 3606  283    2     34  11         Male  No      Yes     Caucasian\n",
              "2 2  106.025 6645  483    3     82  15        Female Yes     Yes     Asian    \n",
              "3 3  104.593 7075  514    4     71  11         Male  No      No      Asian    \n",
              "4 4  148.924 9504  681    3     36  11        Female No      No      Asian    \n",
              "5 5   55.882 4897  357    2     68  16         Male  No      Yes     Caucasian\n",
              "6 6   80.180 8047  569    4     77  10         Male  No      No      Caucasian\n",
              "  Balance\n",
              "1  333   \n",
              "2  903   \n",
              "3  580   \n",
              "4  964   \n",
              "5  331   \n",
              "6 1151   "
            ]
          },
          "metadata": {}
        }
      ],
      "source": [
        "data(package = \"ISLR\")\n",
        "data(Credit)\n",
        "head(Credit)\n"
      ]
    },
    {
      "cell_type": "code",
      "source": [],
      "metadata": {
        "id": "9YZ4ofAF8_J9"
      },
      "execution_count": null,
      "outputs": []
    },
    {
      "cell_type": "markdown",
      "metadata": {
        "id": "k71E413lY4wh"
      },
      "source": [
        "We can see that we have a nice **tidy** data frame here. Each column is a separate variable and each row is a different observation (in this case, simulated customers).\n",
        "\n",
        "The code below fits a linear model to predict credit card balance from the card limit and the card owner's credit rating, age, gender, and student status. This model is saved as the `cred_lm` model object. The `summary()` function extracts important summary information from the model object so we can interpret the results."
      ]
    },
    {
      "cell_type": "code",
      "execution_count": 70,
      "metadata": {
        "scrolled": false,
        "vscode": {
          "languageId": "r"
        },
        "id": "fk6I79whY4wi",
        "colab": {
          "base_uri": "https://localhost:8080/",
          "height": 416
        },
        "outputId": "6cdab1b0-4878-44df-b3ed-63337f816329"
      },
      "outputs": [
        {
          "output_type": "display_data",
          "data": {
            "text/plain": [
              "\n",
              "Call:\n",
              "lm(formula = Balance ~ Limit + Rating + Age + Gender + Student, \n",
              "    data = Credit)\n",
              "\n",
              "Residuals:\n",
              "    Min      1Q  Median      3Q     Max \n",
              "-682.49 -127.65    3.92  135.17  453.60 \n",
              "\n",
              "Coefficients:\n",
              "               Estimate Std. Error t value Pr(>|t|)    \n",
              "(Intercept)  -292.49382   48.88704  -5.983 4.92e-09 ***\n",
              "Limit           0.05265    0.05392   0.976 0.329428    \n",
              "Rating          1.80924    0.80462   2.249 0.025092 *  \n",
              "Age            -2.12967    0.57212  -3.722 0.000226 ***\n",
              "GenderFemale   -0.34809   19.63579  -0.018 0.985865    \n",
              "StudentYes    397.16094   32.76189  12.123  < 2e-16 ***\n",
              "---\n",
              "Signif. codes:  0 ‘***’ 0.001 ‘**’ 0.01 ‘*’ 0.05 ‘.’ 0.1 ‘ ’ 1\n",
              "\n",
              "Residual standard error: 195.9 on 394 degrees of freedom\n",
              "Multiple R-squared:  0.8207,\tAdjusted R-squared:  0.8184 \n",
              "F-statistic: 360.6 on 5 and 394 DF,  p-value: < 2.2e-16\n"
            ]
          },
          "metadata": {}
        }
      ],
      "source": [
        "cred_lm  <- lm(Balance ~ Limit + Rating + Age + Gender + Student, Credit)\n",
        "summary(cred_lm)"
      ]
    },
    {
      "cell_type": "markdown",
      "metadata": {
        "id": "KTo-8B5fY4wi"
      },
      "source": [
        "## 2. Replicating `summary` outputs (5 pts)\n",
        "\n",
        "Let's see if we can replicate some of the values included in the `summary()` output.\n",
        "\n",
        "Let's start with the residual standard error, aka sigma. We can see above that this is 195.9 for this model. You can directly extract sigma as follows:"
      ]
    },
    {
      "cell_type": "code",
      "execution_count": 71,
      "metadata": {
        "vscode": {
          "languageId": "r"
        },
        "id": "TZPQ-lFNY4wi",
        "colab": {
          "base_uri": "https://localhost:8080/",
          "height": 34
        },
        "outputId": "1eeeb12c-42d2-415a-b1a2-8b97f3b03090"
      },
      "outputs": [
        {
          "output_type": "display_data",
          "data": {
            "text/html": [
              "195.920637384065"
            ],
            "text/markdown": "195.920637384065",
            "text/latex": "195.920637384065",
            "text/plain": [
              "[1] 195.9206"
            ]
          },
          "metadata": {}
        }
      ],
      "source": [
        "sigma(cred_lm)"
      ]
    },
    {
      "cell_type": "markdown",
      "metadata": {
        "id": "KWHbcHzhY4wi"
      },
      "source": [
        "In `lm`, sigma is calculated as\n",
        "\n",
        "$$ \\sqrt{\\frac{SSE}{n-p}} $$\n",
        "\n",
        "Where SSE is the sum of squared errors, `n` is the number of observations, and `p` is the number of parameters estimated (hint: this includes the intercept). So the denominator boils down to the degrees of freedom.\n",
        "\n",
        "Below, use what you've learned about extracting information from model objects to calculate the SSE and extract `n` and `p`.\n",
        "\n",
        "Hint: remember that R is really good at *vectorized operations*, meaning it easily applies the same operation individually to each element of a given vector."
      ]
    },
    {
      "cell_type": "code",
      "execution_count": 72,
      "metadata": {
        "scrolled": true,
        "vscode": {
          "languageId": "r"
        },
        "id": "kBH8mXK0Y4wi",
        "colab": {
          "base_uri": "https://localhost:8080/",
          "height": 69
        },
        "outputId": "e207b5ba-4107-4f72-9300-c9c93332ab69"
      },
      "outputs": [
        {
          "output_type": "display_data",
          "data": {
            "text/html": [
              "394"
            ],
            "text/markdown": "394",
            "text/latex": "394",
            "text/plain": [
              "[1] 394"
            ]
          },
          "metadata": {}
        },
        {
          "output_type": "display_data",
          "data": {
            "text/html": [
              "195.920637384065"
            ],
            "text/markdown": "195.920637384065",
            "text/latex": "195.920637384065",
            "text/plain": [
              "[1] 195.9206"
            ]
          },
          "metadata": {}
        },
        {
          "output_type": "display_data",
          "data": {
            "text/html": [
              "24"
            ],
            "text/markdown": "24",
            "text/latex": "24",
            "text/plain": [
              "[1] 24"
            ]
          },
          "metadata": {}
        }
      ],
      "source": [
        "# Store model summary\n",
        "cred_lm <- summary(cred_lm)\n",
        "\n",
        "# Print degrees of freedom\n",
        "cred_lm$df[2] # Residual df\n",
        "\n",
        "# Print standard error\n",
        "cred_lm$sigma\n",
        "\n",
        "# Number of parameters (including intercept)\n",
        "length(cred_lm$coefficients)  # Returns 6\n",
        "\n",
        "\n",
        "\n"
      ]
    },
    {
      "cell_type": "markdown",
      "metadata": {
        "id": "n9l-Arf5Y4wi"
      },
      "source": [
        "Now, combine your work above to write a function that takes any fitted linear model and returns the residual standard error. Then test your function on the `cred_lm` model object. Compare your answer to sigma extracted directly from the model object."
      ]
    },
    {
      "cell_type": "code",
      "execution_count": 73,
      "metadata": {
        "vscode": {
          "languageId": "r"
        },
        "id": "MHofEtMPY4wi"
      },
      "outputs": [],
      "source": [
        "calculate_sigma <- function(model) {\n",
        "  # Check if input is a summary object\n",
        "  if(\"summary.lm\" %in% class(model)) {\n",
        "    # If summary object, need to recalculate residuals\n",
        "    residuals <- model$residuals\n",
        "  } else {\n",
        "    # If model object, can get residuals directly\n",
        "    residuals <- model$residuals\n",
        "  }\n",
        "\n",
        "  # Calculate SSE\n",
        "  SSE <- sum(residuals^2)\n",
        "\n",
        "  # Get degrees of freedom\n",
        "  df <- model$df[2]  # For summary object\n",
        "\n",
        "  # Calculate sigma\n",
        "  sigma <- sqrt(SSE/df)\n",
        "\n",
        "  return(sigma)\n",
        "}"
      ]
    },
    {
      "cell_type": "code",
      "execution_count": 74,
      "metadata": {
        "vscode": {
          "languageId": "r"
        },
        "id": "BRv9S19IY4wi",
        "colab": {
          "base_uri": "https://localhost:8080/",
          "height": 69
        },
        "outputId": "75cbf17b-4d92-4a09-9899-ca40af6c60f2"
      },
      "outputs": [
        {
          "output_type": "display_data",
          "data": {
            "text/html": [
              "195.920637384065"
            ],
            "text/markdown": "195.920637384065",
            "text/latex": "195.920637384065",
            "text/plain": [
              "[1] 195.9206"
            ]
          },
          "metadata": {}
        },
        {
          "output_type": "display_data",
          "data": {
            "text/html": [],
            "text/markdown": "",
            "text/latex": "",
            "text/plain": [
              "numeric(0)"
            ]
          },
          "metadata": {}
        },
        {
          "output_type": "stream",
          "name": "stdout",
          "text": [
            "[1] \"Calculated sigma: 195.920637384065\"\n",
            "[1] \"Actual sigma: 195.920637384065\"\n"
          ]
        }
      ],
      "source": [
        "# Test and compare results.\n",
        "\n",
        "calculate_sigma(cred_lm)\n",
        "sigma(cred_lm)\n",
        "\n",
        "# Test function\n",
        "my_sigma <- calculate_sigma(cred_lm)\n",
        "\n",
        "# Compare to actual sigma\n",
        "actual_sigma <- cred_lm$sigma\n",
        "\n",
        "# Print both\n",
        "print(paste(\"Calculated sigma:\", my_sigma))\n",
        "print(paste(\"Actual sigma:\", actual_sigma))\n",
        "\n"
      ]
    },
    {
      "cell_type": "markdown",
      "metadata": {
        "id": "AX4B1CxyZXqX"
      },
      "source": [
        "---\n",
        "## 2. Summary table and indexing (4 pts)\n",
        "\n",
        "Let's say we wanted to extract the entire coefficient table provided to us by the `summary()` function above, maybe for use in a publication. You might expect this to be pulled by:"
      ]
    },
    {
      "cell_type": "code",
      "execution_count": 75,
      "metadata": {
        "vscode": {
          "languageId": "r"
        },
        "id": "Ytt2nUk6Y4wj",
        "colab": {
          "base_uri": "https://localhost:8080/",
          "height": 254
        },
        "outputId": "5af17df2-fda3-4344-e395-9c14031ccb22"
      },
      "outputs": [
        {
          "output_type": "display_data",
          "data": {
            "text/html": [
              "<table class=\"dataframe\">\n",
              "<caption>A matrix: 6 × 4 of type dbl</caption>\n",
              "<thead>\n",
              "\t<tr><th></th><th scope=col>Estimate</th><th scope=col>Std. Error</th><th scope=col>t value</th><th scope=col>Pr(&gt;|t|)</th></tr>\n",
              "</thead>\n",
              "<tbody>\n",
              "\t<tr><th scope=row>(Intercept)</th><td>-292.49382335</td><td>48.88704367</td><td>-5.98305402</td><td>4.922383e-09</td></tr>\n",
              "\t<tr><th scope=row>Limit</th><td>   0.05265499</td><td> 0.05392354</td><td> 0.97647505</td><td>3.294283e-01</td></tr>\n",
              "\t<tr><th scope=row>Rating</th><td>   1.80924401</td><td> 0.80462003</td><td> 2.24856944</td><td>2.509189e-02</td></tr>\n",
              "\t<tr><th scope=row>Age</th><td>  -2.12966556</td><td> 0.57211502</td><td>-3.72244305</td><td>2.260330e-04</td></tr>\n",
              "\t<tr><th scope=row>GenderFemale</th><td>  -0.34809093</td><td>19.63578922</td><td>-0.01772737</td><td>9.858653e-01</td></tr>\n",
              "\t<tr><th scope=row>StudentYes</th><td> 397.16093911</td><td>32.76189104</td><td>12.12265002</td><td>5.800207e-29</td></tr>\n",
              "</tbody>\n",
              "</table>\n"
            ],
            "text/markdown": "\nA matrix: 6 × 4 of type dbl\n\n| <!--/--> | Estimate | Std. Error | t value | Pr(&gt;|t|) |\n|---|---|---|---|---|\n| (Intercept) | -292.49382335 | 48.88704367 | -5.98305402 | 4.922383e-09 |\n| Limit |    0.05265499 |  0.05392354 |  0.97647505 | 3.294283e-01 |\n| Rating |    1.80924401 |  0.80462003 |  2.24856944 | 2.509189e-02 |\n| Age |   -2.12966556 |  0.57211502 | -3.72244305 | 2.260330e-04 |\n| GenderFemale |   -0.34809093 | 19.63578922 | -0.01772737 | 9.858653e-01 |\n| StudentYes |  397.16093911 | 32.76189104 | 12.12265002 | 5.800207e-29 |\n\n",
            "text/latex": "A matrix: 6 × 4 of type dbl\n\\begin{tabular}{r|llll}\n  & Estimate & Std. Error & t value & Pr(>\\textbar{}t\\textbar{})\\\\\n\\hline\n\t(Intercept) & -292.49382335 & 48.88704367 & -5.98305402 & 4.922383e-09\\\\\n\tLimit &    0.05265499 &  0.05392354 &  0.97647505 & 3.294283e-01\\\\\n\tRating &    1.80924401 &  0.80462003 &  2.24856944 & 2.509189e-02\\\\\n\tAge &   -2.12966556 &  0.57211502 & -3.72244305 & 2.260330e-04\\\\\n\tGenderFemale &   -0.34809093 & 19.63578922 & -0.01772737 & 9.858653e-01\\\\\n\tStudentYes &  397.16093911 & 32.76189104 & 12.12265002 & 5.800207e-29\\\\\n\\end{tabular}\n",
            "text/plain": [
              "             Estimate      Std. Error  t value     Pr(>|t|)    \n",
              "(Intercept)  -292.49382335 48.88704367 -5.98305402 4.922383e-09\n",
              "Limit           0.05265499  0.05392354  0.97647505 3.294283e-01\n",
              "Rating          1.80924401  0.80462003  2.24856944 2.509189e-02\n",
              "Age            -2.12966556  0.57211502 -3.72244305 2.260330e-04\n",
              "GenderFemale   -0.34809093 19.63578922 -0.01772737 9.858653e-01\n",
              "StudentYes    397.16093911 32.76189104 12.12265002 5.800207e-29"
            ]
          },
          "metadata": {}
        }
      ],
      "source": [
        "cred_lm$coefficients"
      ]
    },
    {
      "cell_type": "markdown",
      "metadata": {
        "id": "4LDsQrCaY4wj"
      },
      "source": [
        "But as we saw in the tutorial, this pulls just the variable name and estimate, and not the standard error, t-statistic, or p-value. You could try to find where all this information is stored in the `cred_lm` object using the `str()` function."
      ]
    },
    {
      "cell_type": "code",
      "execution_count": 76,
      "metadata": {
        "vscode": {
          "languageId": "r"
        },
        "id": "OV5OZMNuY4wj",
        "colab": {
          "base_uri": "https://localhost:8080/"
        },
        "outputId": "088f349f-ce05-47de-da99-e2be69d75686"
      },
      "outputs": [
        {
          "output_type": "stream",
          "name": "stdout",
          "text": [
            "List of 11\n",
            " $ call         : language lm(formula = Balance ~ Limit + Rating + Age + Gender + Student, data = Credit)\n",
            " $ terms        :Classes 'terms', 'formula'  language Balance ~ Limit + Rating + Age + Gender + Student\n",
            "  .. ..- attr(*, \"variables\")= language list(Balance, Limit, Rating, Age, Gender, Student)\n",
            "  .. ..- attr(*, \"factors\")= int [1:6, 1:5] 0 1 0 0 0 0 0 0 1 0 ...\n",
            "  .. .. ..- attr(*, \"dimnames\")=List of 2\n",
            "  .. .. .. ..$ : chr [1:6] \"Balance\" \"Limit\" \"Rating\" \"Age\" ...\n",
            "  .. .. .. ..$ : chr [1:5] \"Limit\" \"Rating\" \"Age\" \"Gender\" ...\n",
            "  .. ..- attr(*, \"term.labels\")= chr [1:5] \"Limit\" \"Rating\" \"Age\" \"Gender\" ...\n",
            "  .. ..- attr(*, \"order\")= int [1:5] 1 1 1 1 1\n",
            "  .. ..- attr(*, \"intercept\")= int 1\n",
            "  .. ..- attr(*, \"response\")= int 1\n",
            "  .. ..- attr(*, \".Environment\")=<environment: R_GlobalEnv> \n",
            "  .. ..- attr(*, \"predvars\")= language list(Balance, Limit, Rating, Age, Gender, Student)\n",
            "  .. ..- attr(*, \"dataClasses\")= Named chr [1:6] \"numeric\" \"numeric\" \"numeric\" \"numeric\" ...\n",
            "  .. .. ..- attr(*, \"names\")= chr [1:6] \"Balance\" \"Limit\" \"Rating\" \"Age\" ...\n",
            " $ residuals    : Named num [1:400] -3.99 -250.44 -278.79 -399.02 -135.44 ...\n",
            "  ..- attr(*, \"names\")= chr [1:400] \"1\" \"2\" \"3\" \"4\" ...\n",
            " $ coefficients : num [1:6, 1:4] -292.4938 0.0527 1.8092 -2.1297 -0.3481 ...\n",
            "  ..- attr(*, \"dimnames\")=List of 2\n",
            "  .. ..$ : chr [1:6] \"(Intercept)\" \"Limit\" \"Rating\" \"Age\" ...\n",
            "  .. ..$ : chr [1:4] \"Estimate\" \"Std. Error\" \"t value\" \"Pr(>|t|)\"\n",
            " $ aliased      : Named logi [1:6] FALSE FALSE FALSE FALSE FALSE FALSE\n",
            "  ..- attr(*, \"names\")= chr [1:6] \"(Intercept)\" \"Limit\" \"Rating\" \"Age\" ...\n",
            " $ sigma        : num 196\n",
            " $ df           : int [1:3] 6 394 6\n",
            " $ r.squared    : num 0.821\n",
            " $ adj.r.squared: num 0.818\n",
            " $ fstatistic   : Named num [1:3] 361 5 394\n",
            "  ..- attr(*, \"names\")= chr [1:3] \"value\" \"numdf\" \"dendf\"\n",
            " $ cov.unscaled : num [1:6, 1:6] 6.23e-02 3.99e-05 -6.26e-04 -4.29e-04 -5.07e-03 ...\n",
            "  ..- attr(*, \"dimnames\")=List of 2\n",
            "  .. ..$ : chr [1:6] \"(Intercept)\" \"Limit\" \"Rating\" \"Age\" ...\n",
            "  .. ..$ : chr [1:6] \"(Intercept)\" \"Limit\" \"Rating\" \"Age\" ...\n",
            " - attr(*, \"class\")= chr \"summary.lm\"\n"
          ]
        }
      ],
      "source": [
        "str(cred_lm)"
      ]
    },
    {
      "cell_type": "markdown",
      "metadata": {
        "id": "-xs_fOf7Y4wj"
      },
      "source": [
        "But you actually won't find it in there! That's because the information in the coefficient table is a component of `summary()`, not a component of the model object itself. That's right, `summary()` creates it's own object that you can further pull information from.\n",
        "\n",
        "Knowing this, pull the coefficient table from the `summary()` object."
      ]
    },
    {
      "cell_type": "code",
      "execution_count": 77,
      "metadata": {
        "vscode": {
          "languageId": "r"
        },
        "id": "HnBGQ23LY4wj",
        "colab": {
          "base_uri": "https://localhost:8080/",
          "height": 254
        },
        "outputId": "237f6d40-7c1c-4a38-f54f-9b3b10512a27"
      },
      "outputs": [
        {
          "output_type": "display_data",
          "data": {
            "text/html": [
              "<table class=\"dataframe\">\n",
              "<caption>A matrix: 6 × 4 of type dbl</caption>\n",
              "<thead>\n",
              "\t<tr><th></th><th scope=col>Estimate</th><th scope=col>Std. Error</th><th scope=col>t value</th><th scope=col>Pr(&gt;|t|)</th></tr>\n",
              "</thead>\n",
              "<tbody>\n",
              "\t<tr><th scope=row>(Intercept)</th><td>-292.49382335</td><td>48.88704367</td><td>-5.98305402</td><td>4.922383e-09</td></tr>\n",
              "\t<tr><th scope=row>Limit</th><td>   0.05265499</td><td> 0.05392354</td><td> 0.97647505</td><td>3.294283e-01</td></tr>\n",
              "\t<tr><th scope=row>Rating</th><td>   1.80924401</td><td> 0.80462003</td><td> 2.24856944</td><td>2.509189e-02</td></tr>\n",
              "\t<tr><th scope=row>Age</th><td>  -2.12966556</td><td> 0.57211502</td><td>-3.72244305</td><td>2.260330e-04</td></tr>\n",
              "\t<tr><th scope=row>GenderFemale</th><td>  -0.34809093</td><td>19.63578922</td><td>-0.01772737</td><td>9.858653e-01</td></tr>\n",
              "\t<tr><th scope=row>StudentYes</th><td> 397.16093911</td><td>32.76189104</td><td>12.12265002</td><td>5.800207e-29</td></tr>\n",
              "</tbody>\n",
              "</table>\n"
            ],
            "text/markdown": "\nA matrix: 6 × 4 of type dbl\n\n| <!--/--> | Estimate | Std. Error | t value | Pr(&gt;|t|) |\n|---|---|---|---|---|\n| (Intercept) | -292.49382335 | 48.88704367 | -5.98305402 | 4.922383e-09 |\n| Limit |    0.05265499 |  0.05392354 |  0.97647505 | 3.294283e-01 |\n| Rating |    1.80924401 |  0.80462003 |  2.24856944 | 2.509189e-02 |\n| Age |   -2.12966556 |  0.57211502 | -3.72244305 | 2.260330e-04 |\n| GenderFemale |   -0.34809093 | 19.63578922 | -0.01772737 | 9.858653e-01 |\n| StudentYes |  397.16093911 | 32.76189104 | 12.12265002 | 5.800207e-29 |\n\n",
            "text/latex": "A matrix: 6 × 4 of type dbl\n\\begin{tabular}{r|llll}\n  & Estimate & Std. Error & t value & Pr(>\\textbar{}t\\textbar{})\\\\\n\\hline\n\t(Intercept) & -292.49382335 & 48.88704367 & -5.98305402 & 4.922383e-09\\\\\n\tLimit &    0.05265499 &  0.05392354 &  0.97647505 & 3.294283e-01\\\\\n\tRating &    1.80924401 &  0.80462003 &  2.24856944 & 2.509189e-02\\\\\n\tAge &   -2.12966556 &  0.57211502 & -3.72244305 & 2.260330e-04\\\\\n\tGenderFemale &   -0.34809093 & 19.63578922 & -0.01772737 & 9.858653e-01\\\\\n\tStudentYes &  397.16093911 & 32.76189104 & 12.12265002 & 5.800207e-29\\\\\n\\end{tabular}\n",
            "text/plain": [
              "             Estimate      Std. Error  t value     Pr(>|t|)    \n",
              "(Intercept)  -292.49382335 48.88704367 -5.98305402 4.922383e-09\n",
              "Limit           0.05265499  0.05392354  0.97647505 3.294283e-01\n",
              "Rating          1.80924401  0.80462003  2.24856944 2.509189e-02\n",
              "Age            -2.12966556  0.57211502 -3.72244305 2.260330e-04\n",
              "GenderFemale   -0.34809093 19.63578922 -0.01772737 9.858653e-01\n",
              "StudentYes    397.16093911 32.76189104 12.12265002 5.800207e-29"
            ]
          },
          "metadata": {}
        }
      ],
      "source": [
        "cred_lm$coefficients\n"
      ]
    },
    {
      "cell_type": "markdown",
      "metadata": {
        "id": "pIAsp847Y4wj"
      },
      "source": [
        "Maybe we are not interested in including the t-statistic in our final table. Pull **just** the estimate, SE, and p-value from the `summary()` object."
      ]
    },
    {
      "cell_type": "code",
      "execution_count": 78,
      "metadata": {
        "vscode": {
          "languageId": "r"
        },
        "id": "H5NKAtalY4wj",
        "colab": {
          "base_uri": "https://localhost:8080/",
          "height": 254
        },
        "outputId": "e88db407-0f6c-4cca-f0a7-249ce1d22c08"
      },
      "outputs": [
        {
          "output_type": "display_data",
          "data": {
            "text/html": [
              "<table class=\"dataframe\">\n",
              "<caption>A matrix: 6 × 2 of type dbl</caption>\n",
              "<thead>\n",
              "\t<tr><th></th><th scope=col>Std. Error</th><th scope=col>Pr(&gt;|t|)</th></tr>\n",
              "</thead>\n",
              "<tbody>\n",
              "\t<tr><th scope=row>(Intercept)</th><td>48.88704367</td><td>4.922383e-09</td></tr>\n",
              "\t<tr><th scope=row>Limit</th><td> 0.05392354</td><td>3.294283e-01</td></tr>\n",
              "\t<tr><th scope=row>Rating</th><td> 0.80462003</td><td>2.509189e-02</td></tr>\n",
              "\t<tr><th scope=row>Age</th><td> 0.57211502</td><td>2.260330e-04</td></tr>\n",
              "\t<tr><th scope=row>GenderFemale</th><td>19.63578922</td><td>9.858653e-01</td></tr>\n",
              "\t<tr><th scope=row>StudentYes</th><td>32.76189104</td><td>5.800207e-29</td></tr>\n",
              "</tbody>\n",
              "</table>\n"
            ],
            "text/markdown": "\nA matrix: 6 × 2 of type dbl\n\n| <!--/--> | Std. Error | Pr(&gt;|t|) |\n|---|---|---|\n| (Intercept) | 48.88704367 | 4.922383e-09 |\n| Limit |  0.05392354 | 3.294283e-01 |\n| Rating |  0.80462003 | 2.509189e-02 |\n| Age |  0.57211502 | 2.260330e-04 |\n| GenderFemale | 19.63578922 | 9.858653e-01 |\n| StudentYes | 32.76189104 | 5.800207e-29 |\n\n",
            "text/latex": "A matrix: 6 × 2 of type dbl\n\\begin{tabular}{r|ll}\n  & Std. Error & Pr(>\\textbar{}t\\textbar{})\\\\\n\\hline\n\t(Intercept) & 48.88704367 & 4.922383e-09\\\\\n\tLimit &  0.05392354 & 3.294283e-01\\\\\n\tRating &  0.80462003 & 2.509189e-02\\\\\n\tAge &  0.57211502 & 2.260330e-04\\\\\n\tGenderFemale & 19.63578922 & 9.858653e-01\\\\\n\tStudentYes & 32.76189104 & 5.800207e-29\\\\\n\\end{tabular}\n",
            "text/plain": [
              "             Std. Error  Pr(>|t|)    \n",
              "(Intercept)  48.88704367 4.922383e-09\n",
              "Limit         0.05392354 3.294283e-01\n",
              "Rating        0.80462003 2.509189e-02\n",
              "Age           0.57211502 2.260330e-04\n",
              "GenderFemale 19.63578922 9.858653e-01\n",
              "StudentYes   32.76189104 5.800207e-29"
            ]
          },
          "metadata": {}
        }
      ],
      "source": [
        "\n",
        "\n",
        "# Both columns together\n",
        "cred_lm$coefficients[, c(2,4)]"
      ]
    },
    {
      "cell_type": "markdown",
      "metadata": {
        "id": "YrPIiD2EY4wj"
      },
      "source": [
        "Now, pull the table again but drop the `(Intercept)` term. (Don't save and alter your table above -- practice pulling the same table, minus the intercept term, directly from the summary.)"
      ]
    },
    {
      "cell_type": "code",
      "execution_count": 79,
      "metadata": {
        "vscode": {
          "languageId": "r"
        },
        "id": "-Be_xvCGY4wj",
        "colab": {
          "base_uri": "https://localhost:8080/",
          "height": 224
        },
        "outputId": "732a24e7-b7f7-4108-d820-829b822cd113"
      },
      "outputs": [
        {
          "output_type": "display_data",
          "data": {
            "text/html": [
              "<table class=\"dataframe\">\n",
              "<caption>A matrix: 5 × 2 of type dbl</caption>\n",
              "<thead>\n",
              "\t<tr><th></th><th scope=col>Std. Error</th><th scope=col>Pr(&gt;|t|)</th></tr>\n",
              "</thead>\n",
              "<tbody>\n",
              "\t<tr><th scope=row>Limit</th><td> 0.05392354</td><td>3.294283e-01</td></tr>\n",
              "\t<tr><th scope=row>Rating</th><td> 0.80462003</td><td>2.509189e-02</td></tr>\n",
              "\t<tr><th scope=row>Age</th><td> 0.57211502</td><td>2.260330e-04</td></tr>\n",
              "\t<tr><th scope=row>GenderFemale</th><td>19.63578922</td><td>9.858653e-01</td></tr>\n",
              "\t<tr><th scope=row>StudentYes</th><td>32.76189104</td><td>5.800207e-29</td></tr>\n",
              "</tbody>\n",
              "</table>\n"
            ],
            "text/markdown": "\nA matrix: 5 × 2 of type dbl\n\n| <!--/--> | Std. Error | Pr(&gt;|t|) |\n|---|---|---|\n| Limit |  0.05392354 | 3.294283e-01 |\n| Rating |  0.80462003 | 2.509189e-02 |\n| Age |  0.57211502 | 2.260330e-04 |\n| GenderFemale | 19.63578922 | 9.858653e-01 |\n| StudentYes | 32.76189104 | 5.800207e-29 |\n\n",
            "text/latex": "A matrix: 5 × 2 of type dbl\n\\begin{tabular}{r|ll}\n  & Std. Error & Pr(>\\textbar{}t\\textbar{})\\\\\n\\hline\n\tLimit &  0.05392354 & 3.294283e-01\\\\\n\tRating &  0.80462003 & 2.509189e-02\\\\\n\tAge &  0.57211502 & 2.260330e-04\\\\\n\tGenderFemale & 19.63578922 & 9.858653e-01\\\\\n\tStudentYes & 32.76189104 & 5.800207e-29\\\\\n\\end{tabular}\n",
            "text/plain": [
              "             Std. Error  Pr(>|t|)    \n",
              "Limit         0.05392354 3.294283e-01\n",
              "Rating        0.80462003 2.509189e-02\n",
              "Age           0.57211502 2.260330e-04\n",
              "GenderFemale 19.63578922 9.858653e-01\n",
              "StudentYes   32.76189104 5.800207e-29"
            ]
          },
          "metadata": {}
        }
      ],
      "source": [
        "# Just SE and p-values without intercept\n",
        "cred_lm$coefficients[-1, c(2,4)]\n"
      ]
    },
    {
      "cell_type": "markdown",
      "metadata": {
        "id": "2slWzsoYGuLt"
      },
      "source": [
        "That's all for Exercise 3! When you are finished, save the notebook as Exercise3.ipynb, push it to your class GitHub repository and send the instructors a link to your notebook via Canvas. You can send messages via Canvas by clicking \"Inbox\" on the left and then pressing the icon with a pencil inside a square."
      ]
    },
    {
      "cell_type": "markdown",
      "metadata": {
        "id": "C4MPECMmZXqe"
      },
      "source": [
        "**DUE:** 5pm EST, Feb 5, 2025"
      ]
    },
    {
      "cell_type": "markdown",
      "metadata": {
        "id": "r9GUofXN4BVy"
      },
      "source": [
        "**IMPORTANT** Did you collaborate with anyone on this assignment? If so, list their names here.\n",
        "> *I worked with my tutor, claude.ai*"
      ]
    }
  ],
  "metadata": {
    "colab": {
      "provenance": [],
      "include_colab_link": true
    },
    "kernelspec": {
      "display_name": "R",
      "language": "R",
      "name": "ir"
    },
    "language_info": {
      "codemirror_mode": "r",
      "file_extension": ".r",
      "mimetype": "text/x-r-source",
      "name": "R",
      "pygments_lexer": "r",
      "version": "4.2.0"
    }
  },
  "nbformat": 4,
  "nbformat_minor": 0
}