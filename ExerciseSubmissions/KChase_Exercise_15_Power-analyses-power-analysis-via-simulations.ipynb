{
  "cells": [
    {
      "cell_type": "markdown",
      "metadata": {
        "id": "-2W919d2ZXp7"
      },
      "source": [
        "# Exercise 15: Power analyses"
      ]
    },
    {
      "cell_type": "markdown",
      "metadata": {
        "id": "L4nOzVhyZXqK"
      },
      "source": [
        "This  assignment is designed to give you practice with Monte Carlo methods to conduct power analyses via simulation. You won't need to load in any data for this homework. We will, however, be using parts of the homework from last week."
      ]
    },
    {
      "cell_type": "markdown",
      "source": [
        "1. Simulating data 1/1\n",
        "2. run_analysis function 2/2\n",
        "3. repeat_analysis() function 3/3\n",
        "4. Testing different sample sizes 2/2\n",
        "5. Reflection 2/2"
      ],
      "metadata": {
        "id": "B-THpbwkaoG2"
      }
    },
    {
      "cell_type": "markdown",
      "metadata": {
        "id": "9DsyBTB6ZXqN"
      },
      "source": [
        "---\n",
        "## 1. Simulating data (1 points)\n"
      ]
    },
    {
      "cell_type": "markdown",
      "metadata": {
        "id": "J1f6MywYhyzN"
      },
      "source": [
        "Pull your `simulate_data()` function from your last homework and add it below.\n",
        "\n",
        "As a reminder, this function simulates the relationship between age, word reading experience, and reading comprehension skill.\n",
        "\n",
        "`c` is reading comprehension, and `x` is word reading experience."
      ]
    },
    {
      "cell_type": "code",
      "execution_count": null,
      "metadata": {
        "id": "UnBVazYfZXqP",
        "vscode": {
          "languageId": "r"
        },
        "outputId": "f4691afa-cfa8-455e-fb1c-aa361ed4500e"
      },
      "outputs": [
        {
          "data": {
            "text/html": [
              "<table class=\"dataframe\">\n",
              "<caption>A data.frame: 6 x 3</caption>\n",
              "<thead>\n",
              "\t<tr><th></th><th scope=col>age</th><th scope=col>x</th><th scope=col>c</th></tr>\n",
              "\t<tr><th></th><th scope=col>&lt;dbl&gt;</th><th scope=col>&lt;dbl&gt;</th><th scope=col>&lt;dbl&gt;</th></tr>\n",
              "</thead>\n",
              "<tbody>\n",
              "\t<tr><th scope=row>1</th><td> 90.31729</td><td> -7.056185</td><td> 45.438372</td></tr>\n",
              "\t<tr><th scope=row>2</th><td>193.67776</td><td> 65.661790</td><td>338.151120</td></tr>\n",
              "\t<tr><th scope=row>3</th><td>159.91528</td><td>-28.155507</td><td>  5.663145</td></tr>\n",
              "\t<tr><th scope=row>4</th><td>127.20180</td><td> 17.313933</td><td> 73.303405</td></tr>\n",
              "\t<tr><th scope=row>5</th><td>107.00363</td><td> 59.982356</td><td>270.852995</td></tr>\n",
              "\t<tr><th scope=row>6</th><td>168.90098</td><td> 78.393654</td><td>523.008825</td></tr>\n",
              "</tbody>\n",
              "</table>\n"
            ],
            "text/latex": [
              "A data.frame: 6 x 3\n",
              "\\begin{tabular}{r|lll}\n",
              "  & age & x & c\\\\\n",
              "  & <dbl> & <dbl> & <dbl>\\\\\n",
              "\\hline\n",
              "\t1 &  90.31729 &  -7.056185 &  45.438372\\\\\n",
              "\t2 & 193.67776 &  65.661790 & 338.151120\\\\\n",
              "\t3 & 159.91528 & -28.155507 &   5.663145\\\\\n",
              "\t4 & 127.20180 &  17.313933 &  73.303405\\\\\n",
              "\t5 & 107.00363 &  59.982356 & 270.852995\\\\\n",
              "\t6 & 168.90098 &  78.393654 & 523.008825\\\\\n",
              "\\end{tabular}\n"
            ],
            "text/markdown": [
              "\n",
              "A data.frame: 6 x 3\n",
              "\n",
              "| <!--/--> | age &lt;dbl&gt; | x &lt;dbl&gt; | c &lt;dbl&gt; |\n",
              "|---|---|---|---|\n",
              "| 1 |  90.31729 |  -7.056185 |  45.438372 |\n",
              "| 2 | 193.67776 |  65.661790 | 338.151120 |\n",
              "| 3 | 159.91528 | -28.155507 |   5.663145 |\n",
              "| 4 | 127.20180 |  17.313933 |  73.303405 |\n",
              "| 5 | 107.00363 |  59.982356 | 270.852995 |\n",
              "| 6 | 168.90098 |  78.393654 | 523.008825 |\n",
              "\n"
            ],
            "text/plain": [
              "  age       x          c         \n",
              "1  90.31729  -7.056185  45.438372\n",
              "2 193.67776  65.661790 338.151120\n",
              "3 159.91528 -28.155507   5.663145\n",
              "4 127.20180  17.313933  73.303405\n",
              "5 107.00363  59.982356 270.852995\n",
              "6 168.90098  78.393654 523.008825"
            ]
          },
          "metadata": {},
          "output_type": "display_data"
        }
      ],
      "source": [
        "sample_size = 100 # How many children in data set?\n",
        "age_lo = 80     # minimum age, in months\n",
        "age_hi = 200    # maximum age, in months\n",
        "beta_xa = 0.5   # amount by which experience changes for increase of one month in age\n",
        "beta_x0 = -5    # amount of experience when age = 0 (not interpretable, since minimum age for this data is 80 months)\n",
        "sd_x = 50       # standard dev of gaussian noise term, epsilon_x\n",
        "beta_ca = 0.8   # amount that comprehension score improves for every increase of one unit in age\n",
        "beta_cx = 3     # amount that comprehension score improves for every increase of one unit in reading experience\n",
        "beta_c0 = 10    # comprehension score when reading experience is 0\n",
        "sd_c = 85      # standard dev of gaussian noise term, epsilon_c\n",
        "\n",
        "simulate_data <- function(sample_size, age_lo, age_hi, beta_xa,\n",
        "                          beta_x0, sd_x, beta_ca, beta_cx, beta_c0, sd_c) {\n",
        "\n",
        "      # generate age values uniformly distributed between age_lo and age_hi\n",
        "      age <- runif(sample_size, min = age_lo, max = age_hi)\n",
        "\n",
        "      # generate reading experience based on the model\n",
        "      # x = β_xa * a + β_x0 + ε_x\n",
        "      epsilon_x <- rnorm(sample_size, mean = 0, sd = sd_x)\n",
        "      x <- beta_xa * age + beta_x0 + epsilon_x\n",
        "\n",
        "      # generate comprehension experience based on the model\n",
        "      # c = β_ca * a + β_cx * x + β_c0 + ε_c\n",
        "      epsilon_c <- rnorm(sample_size, mean = 0, sd = sd_c)\n",
        "      c <- beta_ca * age + beta_cx * x + beta_c0 + epsilon_c\n",
        "\n",
        "      # dataframe with simulated variables\n",
        "      data.frame(age = age, x = x, c = c)\n",
        "\n",
        "}\n",
        "\n",
        "dat <- simulate_data(sample_size, age_lo, age_hi, beta_xa, beta_x0, sd_x, beta_ca, beta_cx, beta_c0, sd_c)\n",
        "head(dat)"
      ]
    },
    {
      "cell_type": "markdown",
      "metadata": {
        "id": "T3b3_KsHk-xD"
      },
      "source": [
        "---\n",
        "## 2. `run_analysis()` function (2 pts)"
      ]
    },
    {
      "cell_type": "markdown",
      "metadata": {
        "id": "TJyPIaTO8zCS"
      },
      "source": [
        "Last week, we looked at whether word reading experience(`x`) mediated the relation between `age` and reading comprehension (`c`).\n",
        "\n",
        "Now we're going to use our `simulate_data()` function to conduct a power analysis. The goal is to determine how many participants we would need in order to detect both the mediated and the direct effects in this data.\n",
        "\n",
        "*Note: We're going to pretend for the sake of simplicity that we don't have any control over the ages of the children we get (so ages are generated using `runif(sample_size, age_lo, age_hi)`, although of course this would be an unusual situation in reality.*\n",
        "\n",
        "First, write a function, `run_analysis()`, that takes in simulated data, runs **your mediation from last week**, and returns a vector containing the ACME and ADE estimates and p-values (these are the `d0`, `d0.p`, `z0`, and `z0.p` features of the mediated model object, e.g., `fitMed$d0.p`). Print this function's output for the data we simulated previously."
      ]
    },
    {
      "cell_type": "code",
      "execution_count": null,
      "metadata": {
        "id": "AidH_KidrX9L",
        "scrolled": true,
        "vscode": {
          "languageId": "r"
        },
        "outputId": "c309700c-87c0-4c2e-c26e-8f7d1637fd5d"
      },
      "outputs": [
        {
          "name": "stdout",
          "output_type": "stream",
          "text": [
            "    ACME   ACME_p      ADE    ADE_p \n",
            "1.706456 0.000000 1.186489 0.000000 \n"
          ]
        }
      ],
      "source": [
        "\n",
        "run_analysis <- function(dat) {\n",
        "  # Fit the mediator model (age -> x)\n",
        "    mediation_model <- lm(x ~ age, data = dat)\n",
        "\n",
        "    # Fit the outcome model with both predictor and mediator (age + x -> c)\n",
        "    outcome_model_2 <- lm(c ~ age + x, data = dat)\n",
        "    summary(outcome_model_2)\n",
        "\n",
        "    # use mediate function to test the mediation\n",
        "    med_results <- mediate(mediation_model, outcome_model_2, treat = \"age\", mediator = \"x\")\n",
        "\n",
        "    # Extract the needed values from the mediation results\n",
        "    results <- c(\n",
        "        ACME = med_results$d0,  # Average Causal Mediation Effect\n",
        "        ACME_p = med_results$d0.p,   # p-value for ACME\n",
        "        ADE = med_results$z0,  # Average Direct Effect\n",
        "        ADE_p = med_results$z0.p  # p-value for ADE\n",
        "    )\n",
        "    return(results)\n",
        "}\n",
        "# Ensure the mediation package is loaded\n",
        "library(mediation)\n",
        "# Run the analysis and print the results\n",
        "results <- run_analysis(dat)\n",
        "print(results)\n",
        "\n"
      ]
    },
    {
      "cell_type": "markdown",
      "metadata": {
        "id": "bHxz5W2r5s79"
      },
      "source": [
        "---\n",
        "## 3. `repeat_analysis()` function (3 pts)"
      ]
    },
    {
      "cell_type": "markdown",
      "metadata": {
        "id": "G_jvc1XQBCpH"
      },
      "source": [
        "Next fill in the function `repeat_analysis()` below so that it simulates and analyzes data `num_simulations` times. Store the outputs from each simulation in the `simouts` matrix. Calculate and return the coverage across all the simulations run for both ACME and ADE."
      ]
    },
    {
      "cell_type": "code",
      "execution_count": null,
      "metadata": {
        "id": "NheOpBDsBBo9",
        "vscode": {
          "languageId": "r"
        }
      },
      "outputs": [],
      "source": [
        "repeat_analysis <- function(num_simulations, sample_size = 100,\n",
        "                  age_lo = 80, age_hi = 200,\n",
        "                  beta_x0 = -5, beta_xa = 0.5, beta_c0 = 10, beta_ca = 0.8, beta_cx = 3,\n",
        "                  sd_x = 50, sd_c = 85,  alpha = .05) {\n",
        "  # Initialize simouts matrix for storing each output from run_analysis()\n",
        "  simouts <- matrix(rep(NA, num_simulations*4), nrow=num_simulations, ncol=4)\n",
        "  colnames(simouts) <- c(\"ACME\", \"ACME_p\", \"ADE\", \"ADE_p\")\n",
        "\n",
        "  # Start simulating\n",
        "  for (i in 1:num_simulations) {\n",
        "  dat <- simulate_data(sample_size, age_lo, age_hi,\n",
        "            beta_x0, beta_xa, beta_c0, beta_ca, beta_cx,\n",
        "            sd_x, sd_c)\n",
        "      results <- run_analysis(dat)  # Run the analysis on the simulated data\n",
        "      simouts[i, ] <- results  # Store the results from run_analysis in the simouts matrix\n",
        "      # Check if results are valid\n",
        "      if (any(is.na(results) | results[\"ACME_p\"] < 0 | results[\"ADE_p\"] < 0)) {\n",
        "          warning(\"Invalid results encountered in simulation \", i, \". Repeating this iteration.\")\n",
        "          i <- i - 1  # decrement i to repeat this iteration\n",
        "          next\n",
        "      }\n",
        "    }\n",
        "\n",
        "    # Calculate coverage for both ACME and ADE estimates using p-values in simouts\n",
        "    ACME_cov = mean(simouts[, \"ACME_p\"] < alpha)  # proportion of simulations where ACME p-value < alpha\n",
        "    ADE_cov = mean(simouts[, \"ADE_p\"] < alpha)    # proportion of simulations where ADE p-value < alpha\n",
        "\n",
        "    return(list(simouts = simouts, ACME_cov = ACME_cov, ADE_cov = ADE_cov))\n",
        "}"
      ]
    },
    {
      "cell_type": "markdown",
      "metadata": {
        "id": "bM5J5pYyQoRL"
      },
      "source": [
        "Now run the `repeat_analysis()` function using the same parameter settings as above, for 10 simulations, with an alpha criterion of 0.01."
      ]
    },
    {
      "cell_type": "code",
      "execution_count": null,
      "metadata": {
        "id": "RpURGbZQQlEK",
        "vscode": {
          "languageId": "r"
        },
        "outputId": "d46f88c9-9248-4103-a5b1-50349659981c"
      },
      "outputs": [
        {
          "name": "stderr",
          "output_type": "stream",
          "text": [
            "Running nonparametric bootstrap\n",
            "\n",
            "\n",
            "Running nonparametric bootstrap\n",
            "\n",
            "\n",
            "Running nonparametric bootstrap\n",
            "\n",
            "\n",
            "Running nonparametric bootstrap\n",
            "\n",
            "\n",
            "Running nonparametric bootstrap\n",
            "\n",
            "\n",
            "Running nonparametric bootstrap\n",
            "\n",
            "\n",
            "Running nonparametric bootstrap\n",
            "\n",
            "\n",
            "Running nonparametric bootstrap\n",
            "\n",
            "\n",
            "Running nonparametric bootstrap\n",
            "\n",
            "\n",
            "Running nonparametric bootstrap\n",
            "\n",
            "\n"
          ]
        },
        {
          "name": "stdout",
          "output_type": "stream",
          "text": [
            "$simouts\n",
            "            ACME ACME_p        ADE ADE_p\n",
            " [1,] -11.400495  0.004 -2.9007436 0.468\n",
            " [2,] -11.896837  0.002 -2.0396267 0.602\n",
            " [3,] -18.107193  0.002  3.8061760 0.336\n",
            " [4,] -13.562459  0.006 -0.1499165 0.936\n",
            " [5,]  -9.425927  0.020 -4.8571136 0.274\n",
            " [6,] -15.894780  0.000  1.3144053 0.674\n",
            " [7,] -18.283587  0.004  4.5301102 0.422\n",
            " [8,]  -9.123060  0.024 -5.2943488 0.202\n",
            " [9,] -16.627211  0.000  2.5842060 0.448\n",
            "[10,] -18.417888  0.000  3.9065666 0.410\n",
            "\n",
            "$ACME_cov\n",
            "[1] 0.8\n",
            "\n",
            "$ADE_cov\n",
            "[1] 0\n",
            "\n",
            "Coverage for ACME at alpha = 0.01 : 0.8 \n",
            "Coverage for ADE at alpha = 0.01 : 0 \n"
          ]
        }
      ],
      "source": [
        "# Set seed for reproducibility\n",
        "set.seed(123)\n",
        "\n",
        "# Run the repeat analysis with 10 simulations\n",
        "num_simulations <- 10\n",
        "alpha <- .01\n",
        "\n",
        "results <- repeat_analysis(num_simulations = num_simulations,\n",
        "                          sample_size = sample_size,\n",
        "                          age_lo = age_lo, age_hi = age_hi,\n",
        "                          beta_x0 = beta_x0, beta_xa = beta_xa,\n",
        "                          beta_c0 = beta_c0, beta_ca = beta_ca, beta_cx = beta_cx,\n",
        "                          sd_x = sd_x, sd_c = sd_c,\n",
        "                          alpha = alpha)\n",
        "# Print the simulation results\n",
        "print(results)\n",
        "\n",
        "# Print the coverage results\n",
        "cat(\"Coverage for ACME at alpha =\", alpha, \":\", results$ACME_cov, \"\\n\")\n",
        "cat(\"Coverage for ADE at alpha =\", alpha, \":\", results$ADE_cov, \"\\n\")\n",
        "\n"
      ]
    },
    {
      "cell_type": "markdown",
      "metadata": {
        "id": "imIoN4w65s7_"
      },
      "source": [
        "---\n",
        "## 4. Testing different sample sizes (2 pts)"
      ]
    },
    {
      "cell_type": "markdown",
      "metadata": {
        "id": "CzeTaoY7SaXv"
      },
      "source": [
        "Finally, do the same thing (10 simulations, alpha criterion of 0.01) but for 5 different sample sizes: 50, 75, 100, 125, 150. You can do this using `map` (as in the tutorial), or a simple `for` loop, or by calculating each individually. Up to you! This should take around 3 minutes to run."
      ]
    },
    {
      "cell_type": "code",
      "execution_count": null,
      "metadata": {
        "id": "mp-a19XsS8Md",
        "vscode": {
          "languageId": "r"
        },
        "outputId": "601b9537-bfff-46e0-a85f-c24bd9ee1b0f"
      },
      "outputs": [
        {
          "name": "stderr",
          "output_type": "stream",
          "text": [
            "Running nonparametric bootstrap\n",
            "\n",
            "\n",
            "Running nonparametric bootstrap\n",
            "\n",
            "\n",
            "Running nonparametric bootstrap\n",
            "\n",
            "\n",
            "Running nonparametric bootstrap\n",
            "\n",
            "\n",
            "Running nonparametric bootstrap\n",
            "\n",
            "\n",
            "Running nonparametric bootstrap\n",
            "\n",
            "\n",
            "Running nonparametric bootstrap\n",
            "\n",
            "\n",
            "Running nonparametric bootstrap\n",
            "\n",
            "\n",
            "Running nonparametric bootstrap\n",
            "\n",
            "\n",
            "Running nonparametric bootstrap\n",
            "\n",
            "\n",
            "Running nonparametric bootstrap\n",
            "\n",
            "\n",
            "Running nonparametric bootstrap\n",
            "\n",
            "\n",
            "Running nonparametric bootstrap\n",
            "\n",
            "\n",
            "Running nonparametric bootstrap\n",
            "\n",
            "\n",
            "Running nonparametric bootstrap\n",
            "\n",
            "\n",
            "Running nonparametric bootstrap\n",
            "\n",
            "\n",
            "Running nonparametric bootstrap\n",
            "\n",
            "\n",
            "Running nonparametric bootstrap\n",
            "\n",
            "\n",
            "Running nonparametric bootstrap\n",
            "\n",
            "\n",
            "Running nonparametric bootstrap\n",
            "\n",
            "\n",
            "Running nonparametric bootstrap\n",
            "\n",
            "\n",
            "Running nonparametric bootstrap\n",
            "\n",
            "\n",
            "Running nonparametric bootstrap\n",
            "\n",
            "\n",
            "Running nonparametric bootstrap\n",
            "\n",
            "\n",
            "Running nonparametric bootstrap\n",
            "\n",
            "\n",
            "Running nonparametric bootstrap\n",
            "\n",
            "\n",
            "Running nonparametric bootstrap\n",
            "\n",
            "\n",
            "Running nonparametric bootstrap\n",
            "\n",
            "\n",
            "Running nonparametric bootstrap\n",
            "\n",
            "\n",
            "Running nonparametric bootstrap\n",
            "\n",
            "\n",
            "Running nonparametric bootstrap\n",
            "\n",
            "\n",
            "Running nonparametric bootstrap\n",
            "\n",
            "\n",
            "Running nonparametric bootstrap\n",
            "\n",
            "\n",
            "Running nonparametric bootstrap\n",
            "\n",
            "\n",
            "Running nonparametric bootstrap\n",
            "\n",
            "\n",
            "Running nonparametric bootstrap\n",
            "\n",
            "\n",
            "Running nonparametric bootstrap\n",
            "\n",
            "\n",
            "Running nonparametric bootstrap\n",
            "\n",
            "\n",
            "Running nonparametric bootstrap\n",
            "\n",
            "\n",
            "Running nonparametric bootstrap\n",
            "\n",
            "\n",
            "Running nonparametric bootstrap\n",
            "\n",
            "\n",
            "Running nonparametric bootstrap\n",
            "\n",
            "\n",
            "Running nonparametric bootstrap\n",
            "\n",
            "\n",
            "Running nonparametric bootstrap\n",
            "\n",
            "\n",
            "Running nonparametric bootstrap\n",
            "\n",
            "\n",
            "Running nonparametric bootstrap\n",
            "\n",
            "\n",
            "Running nonparametric bootstrap\n",
            "\n",
            "\n",
            "Running nonparametric bootstrap\n",
            "\n",
            "\n",
            "Running nonparametric bootstrap\n",
            "\n",
            "\n",
            "Running nonparametric bootstrap\n",
            "\n",
            "\n"
          ]
        }
      ],
      "source": [
        "library(tidyverse)\n",
        "# first, create a data.frame to store the results\n",
        "dat <- expand.grid(sample_size = c(50, 75, 100, 125, 150), alpha = 0.01)\n",
        "dat$id <- 1:nrow(dat) #identify each combination of parameters as a separate parameter case for below (otherwise, \"unnesting\" will be impossible)\n",
        "\n",
        "# then use tidyverse functions to run the analysis for each sample size\n",
        "results <- dat  %>%  #using the dataframe defined above\n",
        "    nest(parameters :=  c(sample_size,alpha)) %>% # separate the parameters into lists split by parameter combo case and call the new column of lists 'parameters'\n",
        "    mutate(sim_results = map(parameters, function(params) {\n",
        "        sample_size <- params$sample_size\n",
        "        alpha <- params$alpha\n",
        "\n",
        "        # Run the simulation analysis for each parameter set\n",
        "        samples <- repeat_analysis(\n",
        "            num_simulations = 10,\n",
        "            sample_size = sample_size,\n",
        "            alpha = alpha\n",
        "        )\n",
        "        # Return both ACME and ADE coverage results\n",
        "        return(data.frame(\n",
        "            sample_size = sample_size,\n",
        "            alpha = alpha,\n",
        "            ACME_cov = samples$ACME_cov,\n",
        "            ADE_cov = samples$ADE_cov\n",
        "        ))\n",
        "    })) %>%\n",
        "    unnest(sim_results) %>%  # \"unnest\" the list column to create a flat data frame\n",
        "    select(sample_size, alpha, ACME_cov, ADE_cov)  # keep only relevant columns"
      ]
    },
    {
      "cell_type": "markdown",
      "metadata": {
        "id": "akJwKCB7dkDw"
      },
      "source": [
        "Print your results."
      ]
    },
    {
      "cell_type": "code",
      "execution_count": null,
      "metadata": {
        "id": "gIkkWTG2aR4d",
        "scrolled": true,
        "vscode": {
          "languageId": "r"
        },
        "outputId": "cde3843f-70f5-4936-94d3-7d034e9e8eb8"
      },
      "outputs": [
        {
          "name": "stdout",
          "output_type": "stream",
          "text": [
            "\u001b[90m# A tibble: 5 x 4\u001b[39m\n",
            "  sample_size alpha ACME_cov ADE_cov\n",
            "        \u001b[3m\u001b[90m<dbl>\u001b[39m\u001b[23m \u001b[3m\u001b[90m<dbl>\u001b[39m\u001b[23m    \u001b[3m\u001b[90m<dbl>\u001b[39m\u001b[23m   \u001b[3m\u001b[90m<dbl>\u001b[39m\u001b[23m\n",
            "\u001b[90m1\u001b[39m          50  0.01      0.4     0  \n",
            "\u001b[90m2\u001b[39m          75  0.01      0.8     0  \n",
            "\u001b[90m3\u001b[39m         100  0.01      0.8     0  \n",
            "\u001b[90m4\u001b[39m         125  0.01      0.9     0  \n",
            "\u001b[90m5\u001b[39m         150  0.01      0.9     0.1\n"
          ]
        },
        {
          "data": {
            "image/png": "[encoded data removed]",
            "text/plain": [
              "plot without title"
            ]
          },
          "metadata": {
            "image/png": {
              "height": 420,
              "width": 420
            }
          },
          "output_type": "display_data"
        }
      ],
      "source": [
        "# Print the final results\n",
        "print(results)\n",
        "# create a summary plot of the coverage results\n",
        "library(ggplot2)\n",
        "ggplot(results, aes(x = sample_size)) +\n",
        "    geom_line(aes(y = ACME_cov, color = \"ACME\"), size = 1) +\n",
        "    geom_line(aes(y = ADE_cov, color = \"ADE\"), size = 1) +\n",
        "    geom_point(aes(y = ACME_cov, color = \"ACME\"), size = 3) +\n",
        "    geom_point(aes(y = ADE_cov, color = \"ADE\"), size = 3) +\n",
        "    labs(title = \"Power Analysis Results\",\n",
        "         x = \"Sample Size\",\n",
        "         y = \"Power (proportion of simulations with p < alpha)\",\n",
        "         color = \"Effect Type\") +\n",
        "    theme_minimal() +\n",
        "    scale_color_manual(values = c(\"ACME\" = \"blue\", \"ADE\" = \"red\"))\n"
      ]
    },
    {
      "cell_type": "markdown",
      "metadata": {
        "id": "q3Oo6npB5s8B"
      },
      "source": [
        "## 5. Reflection (2 pts)"
      ]
    },
    {
      "cell_type": "markdown",
      "metadata": {
        "id": "tpbGkul2dr-5"
      },
      "source": [
        "If this were a real power analysis, we'd want to run more simulations per sample size (to get a more precise estimate of power) and we may also want to test out some other values of the parameters we used to simulate our data. However, what would you conclude just based on the results above?\n",
        "\n",
        "> *ACME represents the mediating or indirect effect, i.e. “Given this model, would I predict that [reading comprehension] would change significantly when I vary [reading experience] but hold [age] constant? The analyses, though with limited sample sizes, gives a strong indication that this is true. ADE answers the opposite question, varying [age] while holding [reading experience] constant. But we get no clear answer here, the experiment isn't set up to answer this question.*\n",
        ">"
      ]
    },
    {
      "cell_type": "markdown",
      "metadata": {
        "id": "RcCo3QOifUi5"
      },
      "source": [
        "**Given** how we generated the data, why was the direct effect harder to detect than the mediated effect?\n",
        "> *I think the way we generated data, with small sample sizes, made it harder to detect the direct effect. I think, in part, there are many factors that impact reading comprehension so age as a stand-alone is hard to determine, thus adding to the complexity of trying to test for it. For ACME to have 80% power we need at least 100 participants, with 125 or more giving 90% power. But ADE gives only a miniscule bump to 10%, when we're at the highest # of participants tested, which is not sufficient. To get a reasonable power for ADE, you'd need more participants than we tested for. I ran step 3b with 1000 simulations, for instance, and got 0.013 for ADE at an alpha of 0.01. Even that is not close to enough.*"
      ]
    },
    {
      "cell_type": "markdown",
      "metadata": {
        "id": "C4MPECMmZXqe"
      },
      "source": [
        "**DUE:** 5pm EST, April 3, 2024"
      ]
    },
    {
      "cell_type": "markdown",
      "metadata": {
        "id": "r9GUofXN4BVy"
      },
      "source": [
        "**IMPORTANT** Did you collaborate with anyone on this assignment? If so, list their names here.\n",
        "> *as per usual, worked with my coding tutor, claude.ai*"
      ]
    }
  ],
  "metadata": {
    "colab": {
      "provenance": []
    },
    "kernelspec": {
      "display_name": "R",
      "language": "R",
      "name": "ir"
    },
    "language_info": {
      "codemirror_mode": "r",
      "file_extension": ".r",
      "mimetype": "text/x-r-source",
      "name": "R",
      "pygments_lexer": "r",
      "version": "4.4.2"
    }
  },
  "nbformat": 4,
  "nbformat_minor": 0
}