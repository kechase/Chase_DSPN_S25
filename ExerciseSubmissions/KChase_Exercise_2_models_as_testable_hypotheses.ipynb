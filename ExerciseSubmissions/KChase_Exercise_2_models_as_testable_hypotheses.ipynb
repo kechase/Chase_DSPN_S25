{
  "cells": [
    {
      "cell_type": "markdown",
      "metadata": {
        "id": "19xnggQ_u3Eh"
      },
      "source": [
        "# Exercise 2: Coding Habits & Functions"
      ]
    },
    {
      "cell_type": "markdown",
      "source": [
        "1. Summary statistics 4/4\n",
        "2. T-test function 4/4\n",
        "3. setting default values 2/2"
      ],
      "metadata": {
        "id": "06OQaUhwkI87"
      }
    },
    {
      "cell_type": "markdown",
      "metadata": {
        "id": "m2p6g1Vgu3Ei"
      },
      "source": [
        "This assignment will give you some practice writing your own functions and using the coding best practices discussed in the tutorial.\n",
        "\n",
        "---"
      ]
    },
    {
      "cell_type": "markdown",
      "metadata": {
        "id": "k15QRI3bu3Ei"
      },
      "source": [
        "## 1. Summary statistics (4 pts)\n",
        "\n",
        "Write a function that takes a vector of numbers `x` and returns the length, mean, and standard deviation of `x` as a new vector.\n",
        "\n",
        "In keeping with our best practices, give the function a short but descriptive name, and use snake case if it involves multiple words.\n",
        "\n",
        "Hint: Vectors are defined in R using the `c()` command."
      ]
    },
    {
      "cell_type": "code",
      "execution_count": 1,
      "metadata": {
        "vscode": {
          "languageId": "r"
        },
        "id": "IKR8L1kku3Ei",
        "colab": {
          "base_uri": "https://localhost:8080/"
        },
        "outputId": "3d4ab0a7-38b3-4f3d-b1fd-9a36b76bfb46"
      },
      "outputs": [
        {
          "output_type": "stream",
          "name": "stdout",
          "text": [
            "  length     mean       sd \n",
            "5.000000 3.000000 1.581139 \n"
          ]
        }
      ],
      "source": [
        "# define a new function\n",
        "vector_a <- function(x) {\n",
        "\n",
        "# make sure it's a number\n",
        "  if (!is.numeric(x)) {\n",
        "    stop(\"Input must be a numeric vector\")\n",
        "  }\n",
        "\n",
        "# Calculate length, mean, and standard deviation of input vector\n",
        "# Returns: numeric vector [length, mean, sd]\n",
        "\n",
        "  c(length(x), mean(x), sd(x))\n",
        "}\n",
        "\n",
        "numbers <- c(1, 2, 3, 4, 5)\n",
        "result <- vector_a(numbers)\n",
        "names(result) <- c(\"length\", \"mean\", \"sd\")\n",
        "print(result)"
      ]
    },
    {
      "cell_type": "markdown",
      "metadata": {
        "id": "Sra99k-0u3Ej"
      },
      "source": [
        "Calculate the summary statistics of vector `v1`.\n",
        "\n",
        "*Hint*: Note the \"NA\" in the vector. This is short for \"not available\" and is a placeholder for missing values. You'll want to look up the _is.na_ function (and the not operator _!_), as well as options for removing NA's in the functions that you will use to summarize the vector. Look at the documentation for the functions that you will use to see how to work with NA's."
      ]
    },
    {
      "cell_type": "code",
      "execution_count": 2,
      "metadata": {
        "vscode": {
          "languageId": "r"
        },
        "id": "86K9kzIZu3Ej",
        "colab": {
          "base_uri": "https://localhost:8080/",
          "height": 174
        },
        "outputId": "54c3dd34-cfef-4668-bfff-ba6181eda497"
      },
      "outputs": [
        {
          "output_type": "display_data",
          "data": {
            "text/plain": [
              "   Min. 1st Qu.  Median    Mean 3rd Qu.    Max.    NA's \n",
              "   5.00    5.75    7.50    7.75    9.50   11.00       1 "
            ]
          },
          "metadata": {}
        },
        {
          "output_type": "display_data",
          "data": {
            "text/html": [
              "4"
            ],
            "text/markdown": "4",
            "text/latex": "4",
            "text/plain": [
              "[1] 4"
            ]
          },
          "metadata": {}
        },
        {
          "output_type": "display_data",
          "data": {
            "text/html": [
              "7.75"
            ],
            "text/markdown": "7.75",
            "text/latex": "7.75",
            "text/plain": [
              "[1] 7.75"
            ]
          },
          "metadata": {}
        },
        {
          "output_type": "display_data",
          "data": {
            "text/html": [
              "2.75378527364305"
            ],
            "text/markdown": "2.75378527364305",
            "text/latex": "2.75378527364305",
            "text/plain": [
              "[1] 2.753785"
            ]
          },
          "metadata": {}
        },
        {
          "output_type": "display_data",
          "data": {
            "text/html": [
              "7.5"
            ],
            "text/markdown": "7.5",
            "text/latex": "7.5",
            "text/plain": [
              "[1] 7.5"
            ]
          },
          "metadata": {}
        },
        {
          "output_type": "display_data",
          "data": {
            "text/html": [
              "5"
            ],
            "text/markdown": "5",
            "text/latex": "5",
            "text/plain": [
              "[1] 5"
            ]
          },
          "metadata": {}
        },
        {
          "output_type": "display_data",
          "data": {
            "text/html": [
              "11"
            ],
            "text/markdown": "11",
            "text/latex": "11",
            "text/plain": [
              "[1] 11"
            ]
          },
          "metadata": {}
        },
        {
          "output_type": "display_data",
          "data": {
            "text/html": [
              "<style>\n",
              ".dl-inline {width: auto; margin:0; padding: 0}\n",
              ".dl-inline>dt, .dl-inline>dd {float: none; width: auto; display: inline-block}\n",
              ".dl-inline>dt::after {content: \":\\0020\"; padding-right: .5ex}\n",
              ".dl-inline>dt:not(:first-of-type) {padding-left: .5ex}\n",
              "</style><dl class=dl-inline><dt>length</dt><dd>4</dd><dt>mean</dt><dd>7.75</dd><dt>sd</dt><dd>2.75378527364305</dd><dt>median</dt><dd>7.5</dd><dt>min</dt><dd>5</dd><dt>max</dt><dd>11</dd></dl>\n"
            ],
            "text/markdown": "length\n:   4mean\n:   7.75sd\n:   2.75378527364305median\n:   7.5min\n:   5max\n:   11\n\n",
            "text/latex": "\\begin{description*}\n\\item[length] 4\n\\item[mean] 7.75\n\\item[sd] 2.75378527364305\n\\item[median] 7.5\n\\item[min] 5\n\\item[max] 11\n\\end{description*}\n",
            "text/plain": [
              "   length      mean        sd    median       min       max \n",
              " 4.000000  7.750000  2.753785  7.500000  5.000000 11.000000 "
            ]
          },
          "metadata": {}
        }
      ],
      "source": [
        "v1  <- c(5, 11, 6, NA, 9)\n",
        "\n",
        "#v1_stats(v1)\n",
        "\n",
        "# Basic summary with NA handling\n",
        "summary(v1)  # summary() shows NA count automatically\n",
        "\n",
        "# Individual statistics with NA handling\n",
        "length(v1[!is.na(v1)])   # count of non-NA values\n",
        "mean(v1, na.rm = TRUE)   # mean ignoring NA\n",
        "sd(v1, na.rm = TRUE)     # standard deviation ignoring NA\n",
        "median(v1, na.rm = TRUE) # median ignoring NA\n",
        "min(v1, na.rm = TRUE)    # minimum ignoring NA\n",
        "max(v1, na.rm = TRUE)    # maximum ignoring NA\n",
        "\n",
        "# is.na(v1) identifies which elements are NA\n",
        "# !is.na(v1) identifies which elements are NOT NA\n",
        "# na.rm = TRUE tells function to remove NA values before calculating\n",
        "\n",
        "v1_stats <- function(x) {\n",
        "    c(length = sum(!is.na(x)),\n",
        "      mean = mean(x, na.rm = TRUE),\n",
        "      sd = sd(x, na.rm = TRUE),\n",
        "      median = median(x, na.rm = TRUE),\n",
        "      min = min(x, na.rm = TRUE),\n",
        "      max = max(x, na.rm = TRUE))\n",
        "}\n",
        "\n",
        "v1_stats(v1)"
      ]
    },
    {
      "cell_type": "markdown",
      "metadata": {
        "id": "Ejd1Lu5gu3Ej"
      },
      "source": [
        "---\n",
        "## 2. T-test function (4 pts)\n",
        "\n",
        "The formula for a t-test is:"
      ]
    },
    {
      "cell_type": "markdown",
      "metadata": {
        "id": "-8I720tLu3Ej"
      },
      "source": [
        "$$ \\frac{m- \\mu}{ \\frac{s}{\\sqrt{n}}} $$"
      ]
    },
    {
      "cell_type": "markdown",
      "metadata": {
        "id": "MQO7Wyqtu3Ej"
      },
      "source": [
        "Where m is the sample mean, $\\mu$ (mu) is the population mean, s is the standard deviation, and n is the sample size.\n",
        "\n",
        "Using your function above as a starting point, write a new function `ttest_fun` that compares a vector `x` to a given population mean `mu` and calculates the t-statistic. Keep the coding best practices in mind.\n",
        "\n",
        "Hint: You will need to add another argument for mu."
      ]
    },
    {
      "cell_type": "code",
      "execution_count": 3,
      "metadata": {
        "vscode": {
          "languageId": "r"
        },
        "id": "-EjAhtUUu3Ej"
      },
      "outputs": [],
      "source": [
        "# t-test function with the formula t = (m - μ)/(s/√n)\n",
        "# new function ttest_fun compares a vector x to a given population mean mu and calculates the t-statistic\n",
        "\n",
        "ttest_fun <- function(x, mu) {\n",
        "  # Calculate t-statistic for one-sample t-test\n",
        "  # x: numeric vector of observations\n",
        "  # mu: population mean to test against\n",
        "\n",
        "  # Input validation\n",
        "  if (!is.numeric(x)) stop(\"x must be a numeric vector\")\n",
        "  if (!is.numeric(mu)) stop(\"mu must be a numeric value\")\n",
        "\n",
        "  # Remove any NA values\n",
        "  x <- x[!is.na(x)]\n",
        "\n",
        "  # Calculate components\n",
        "  n <- length(x)\n",
        "  x_bar <- mean(x)\n",
        "  s <- sd(x)\n",
        "\n",
        "  # Calculate t-statistic: (sample mean - population mean)/(standard error)\n",
        "  t_stat <- (x_bar - mu)/(s/sqrt(n))\n",
        "\n",
        "  return(t_stat)\n",
        "}\n",
        "\n",
        "# compare vector x to a given population mean mu and calculate the t-statistic\n",
        "\n",
        "\n"
      ]
    },
    {
      "cell_type": "markdown",
      "metadata": {
        "id": "8kobebQPu3Ej"
      },
      "source": [
        "Use your function to compare the mean of v1 to 10."
      ]
    },
    {
      "cell_type": "code",
      "execution_count": 4,
      "metadata": {
        "vscode": {
          "languageId": "r"
        },
        "id": "IYRSoXfcu3Ej",
        "colab": {
          "base_uri": "https://localhost:8080/"
        },
        "outputId": "d2d0f179-58ba-46cc-d49b-1fb05d7b7aff"
      },
      "outputs": [
        {
          "output_type": "stream",
          "name": "stdout",
          "text": [
            "[1] -1.634114\n"
          ]
        }
      ],
      "source": [
        "ttest_fun <- function(x, mu) {\n",
        "  # Calculate t-statistic for one-sample t-test\n",
        "  # x: numeric vector of observations\n",
        "  # mu: population mean to test against\n",
        "\n",
        "  # Input validation\n",
        "  if (!is.numeric(x)) stop(\"x must be a numeric vector\")\n",
        "  if (!is.numeric(mu)) stop(\"mu must be a numeric value\")\n",
        "\n",
        "  # Remove any NA values\n",
        "  x <- x[!is.na(x)]\n",
        "\n",
        "  # Calculate components\n",
        "  n <- length(x)\n",
        "  x_bar <- mean(x)\n",
        "  s <- sd(x)\n",
        "\n",
        "  # Calculate t-statistic: (sample mean - population mean)/(standard error)\n",
        "  t_stat <- (x_bar - mu)/(s/sqrt(n))\n",
        "\n",
        "  return(t_stat)\n",
        "}\n",
        "\n",
        "# compare the mean of v1 to 10\n",
        "v1  <- c(5, 11, 6, NA, 9)\n",
        "mu <- 10\n",
        "result <- ttest_fun(v1, mu)\n",
        "print(result)\n"
      ]
    },
    {
      "cell_type": "markdown",
      "metadata": {
        "id": "Xjs_-MYQu3Ek"
      },
      "source": [
        "---\n",
        "## 3. Setting default values (2 pts)\n",
        "\n",
        "Set the default value of mu to 0. Test your modified function below by supplying only `v2` as an argument."
      ]
    },
    {
      "cell_type": "code",
      "execution_count": 5,
      "metadata": {
        "vscode": {
          "languageId": "r"
        },
        "id": "w0y6h0g0u3Ek",
        "colab": {
          "base_uri": "https://localhost:8080/"
        },
        "outputId": "f489fea5-2d55-474e-9bcb-50155736070f"
      },
      "outputs": [
        {
          "output_type": "stream",
          "name": "stdout",
          "text": [
            "[1] 3.205944\n"
          ]
        }
      ],
      "source": [
        "# Write your modified ttest_fun here\n",
        "\n",
        "ttest_fun <- function(x, mu) {\n",
        "  # Calculate t-statistic for one-sample t-test\n",
        "  # x: numeric vector of observations\n",
        "  # mu: population mean to test against\n",
        "\n",
        "  # Input validation\n",
        "  if (!is.numeric(x)) stop(\"x must be a numeric vector\")\n",
        "  if (!is.numeric(mu)) stop(\"mu must be a numeric value\")\n",
        "\n",
        "  # Remove any NA values\n",
        "  x <- x[!is.na(x)]\n",
        "\n",
        "  # Calculate components\n",
        "  n <- length(x)\n",
        "  x_bar <- mean(x)\n",
        "  s <- sd(x)\n",
        "\n",
        "  # Calculate t-statistic: (sample mean - population mean)/(standard error)\n",
        "  t_stat <- (x_bar - 0)/(s/sqrt(n))\n",
        "\n",
        "  return(t_stat)\n",
        "}\n",
        "\n",
        "# Set the default value of mu to 0. Test your modified function below by supplying only v2 as an argument.\n",
        "v2 <- c(3, 7, 1, NA, 8, 12)\n",
        "mu <- 0\n",
        "result <- ttest_fun(v2, mu)\n",
        "print(result)\n"
      ]
    },
    {
      "cell_type": "code",
      "execution_count": 6,
      "metadata": {
        "vscode": {
          "languageId": "r"
        },
        "id": "4yGwxL1Ju3Ek",
        "colab": {
          "base_uri": "https://localhost:8080/",
          "height": 34
        },
        "outputId": "4a5a9000-684b-4336-91af-d58dd4efbd10"
      },
      "outputs": [
        {
          "output_type": "display_data",
          "data": {
            "text/html": [
              "3.20594367796912"
            ],
            "text/markdown": "3.20594367796912",
            "text/latex": "3.20594367796912",
            "text/plain": [
              "[1] 3.205944"
            ]
          },
          "metadata": {}
        }
      ],
      "source": [
        "v2 <- c(3, 7, 1, NA, 8, 12)\n",
        "ttest_fun(v2, mu)"
      ]
    },
    {
      "cell_type": "markdown",
      "metadata": {
        "id": "0dvtiiwwu3Ek"
      },
      "source": [
        "How does your result compare to R's built-in `t.test()` function?"
      ]
    },
    {
      "cell_type": "code",
      "execution_count": 7,
      "metadata": {
        "scrolled": true,
        "vscode": {
          "languageId": "r"
        },
        "id": "Qg-oeWYvu3Ek",
        "colab": {
          "base_uri": "https://localhost:8080/",
          "height": 249
        },
        "outputId": "8547ea29-ca14-4816-c0a9-e4f778fca663"
      },
      "outputs": [
        {
          "output_type": "display_data",
          "data": {
            "text/plain": [
              "\n",
              "\tOne Sample t-test\n",
              "\n",
              "data:  v2\n",
              "t = 3.2059, df = 4, p-value = 0.03272\n",
              "alternative hypothesis: true mean is not equal to 0\n",
              "95 percent confidence interval:\n",
              "  0.8306107 11.5693893\n",
              "sample estimates:\n",
              "mean of x \n",
              "      6.2 \n"
            ]
          },
          "metadata": {}
        },
        {
          "output_type": "stream",
          "name": "stdout",
          "text": [
            "       t \n",
            "3.205944 \n"
          ]
        }
      ],
      "source": [
        "# R standard t.test\n",
        "t.test(v2)\n",
        "\n",
        "#comparing R standard and my t.test above which hardcoated mu as 0\n",
        "print(t.test(v2, mu = mu)$statistic)"
      ]
    },
    {
      "cell_type": "markdown",
      "metadata": {
        "id": "2slWzsoYGuLt"
      },
      "source": [
        "When you are finished, save the notebook as Exercise2.ipynb, push it to your class GitHub repository (the one you made for Exercise 1) and send the instructors a link to your notebook via Canvas. You can send messages via Canvas by clicking \"Inbox\" on the left and then pressing the icon with a pencil inside a square."
      ]
    },
    {
      "cell_type": "markdown",
      "metadata": {
        "id": "C4MPECMmZXqe"
      },
      "source": [
        "**DUE:** 5pm EST, Feb 3, 2025"
      ]
    },
    {
      "cell_type": "code",
      "source": [],
      "metadata": {
        "id": "3xTRcjIC_Y0c"
      },
      "execution_count": null,
      "outputs": []
    },
    {
      "cell_type": "markdown",
      "metadata": {
        "id": "r9GUofXN4BVy"
      },
      "source": [
        "**IMPORTANT** Did you collaborate with anyone on this assignment? If so, list their names here.\n",
        "> *claude.ai was my tutor for this exercise*"
      ]
    }
  ],
  "metadata": {
    "kernelspec": {
      "display_name": "R",
      "language": "R",
      "name": "ir"
    },
    "language_info": {
      "codemirror_mode": "r",
      "file_extension": ".r",
      "mimetype": "text/x-r-source",
      "name": "R",
      "pygments_lexer": "r",
      "version": "4.4.1"
    },
    "colab": {
      "provenance": []
    }
  },
  "nbformat": 4,
  "nbformat_minor": 0
}