{
 "cells": [
  {
   "cell_type": "markdown",
   "metadata": {
    "id": "6xdZ1WjBmtDf"
   },
   "source": [
    "# Exercise 12: Cross validation\n",
    "-----\n",
    "\n",
    "In this exercise, we'll practice implementing cross validation techniques, including leave-one-out and k-fold cross validation. We'll use the `PimaIndiansDiabetes2` practice dataset, which has medical data on a group of Pima Native American women, including whether or not they have diabetes. This dataset is part of the `mlbench` package. We'll be using each person's medical history to predict whether or not they have been diagnosed with diabetes."
   ]
  },
  {
   "cell_type": "markdown",
   "metadata": {
    "id": "BubJSLTamtDg"
   },
   "source": [
    "# 1: Data (1 pts)\n",
    "---\n",
    "\n",
    "Load the `tidyverse`, `boot`, and `mlbench` packages (you may need to install `boot` and `mlbench`).\n",
    "\n",
    "Load the `PimaIndiansDiabetes2` dataset using the `data()` function. Drop the `insulin` column (it just has a lot of missing data) and then drop `NA`s from the rest of the dataset. Save your updated dataset to a new variable name. Finally, print the dimensions of your new dataset, and look at the first few lines of data."
   ]
  },
  {
   "cell_type": "code",
   "execution_count": 3,
   "metadata": {
    "id": "QNuKGb6emtDg",
    "vscode": {
     "languageId": "r"
    }
   },
   "outputs": [
    {
     "name": "stderr",
     "output_type": "stream",
     "text": [
      "Updating HTML index of packages in '.Library'\n",
      "\n",
      "Making 'packages.html' ...\n",
      " done\n",
      "\n",
      "Updating HTML index of packages in '.Library'\n",
      "\n",
      "Making 'packages.html' ...\n",
      " done\n",
      "\n",
      "Updating HTML index of packages in '.Library'\n",
      "\n",
      "Making 'packages.html' ...\n",
      " done\n",
      "\n",
      "Updating HTML index of packages in '.Library'\n",
      "\n",
      "Making 'packages.html' ...\n",
      " done\n",
      "\n",
      "also installing the dependencies ‘downlit’, ‘pkgdown’\n",
      "\n",
      "\n",
      "Warning message in install.packages(\"vctrs\", dependencies = TRUE):\n",
      "“installation of package ‘downlit’ had non-zero exit status”\n",
      "Warning message in install.packages(\"vctrs\", dependencies = TRUE):\n",
      "“installation of package ‘pkgdown’ had non-zero exit status”\n",
      "Updating HTML index of packages in '.Library'\n",
      "\n",
      "Making 'packages.html' ...\n",
      " done\n",
      "\n",
      "Updating HTML index of packages in '.Library'\n",
      "\n",
      "Making 'packages.html' ...\n",
      " done\n",
      "\n"
     ]
    },
    {
     "data": {
      "text/html": [
       "<table class=\"dataframe\">\n",
       "<caption>A data.frame: 6 × 8</caption>\n",
       "<thead>\n",
       "\t<tr><th></th><th scope=col>pregnant</th><th scope=col>glucose</th><th scope=col>pressure</th><th scope=col>triceps</th><th scope=col>mass</th><th scope=col>pedigree</th><th scope=col>age</th><th scope=col>diabetes</th></tr>\n",
       "\t<tr><th></th><th scope=col>&lt;dbl&gt;</th><th scope=col>&lt;dbl&gt;</th><th scope=col>&lt;dbl&gt;</th><th scope=col>&lt;dbl&gt;</th><th scope=col>&lt;dbl&gt;</th><th scope=col>&lt;dbl&gt;</th><th scope=col>&lt;dbl&gt;</th><th scope=col>&lt;fct&gt;</th></tr>\n",
       "</thead>\n",
       "<tbody>\n",
       "\t<tr><th scope=row>1</th><td>6</td><td>148</td><td>72</td><td>35</td><td>33.6</td><td>0.627</td><td>50</td><td>pos</td></tr>\n",
       "\t<tr><th scope=row>2</th><td>1</td><td> 85</td><td>66</td><td>29</td><td>26.6</td><td>0.351</td><td>31</td><td>neg</td></tr>\n",
       "\t<tr><th scope=row>4</th><td>1</td><td> 89</td><td>66</td><td>23</td><td>28.1</td><td>0.167</td><td>21</td><td>neg</td></tr>\n",
       "\t<tr><th scope=row>5</th><td>0</td><td>137</td><td>40</td><td>35</td><td>43.1</td><td>2.288</td><td>33</td><td>pos</td></tr>\n",
       "\t<tr><th scope=row>7</th><td>3</td><td> 78</td><td>50</td><td>32</td><td>31.0</td><td>0.248</td><td>26</td><td>pos</td></tr>\n",
       "\t<tr><th scope=row>9</th><td>2</td><td>197</td><td>70</td><td>45</td><td>30.5</td><td>0.158</td><td>53</td><td>pos</td></tr>\n",
       "</tbody>\n",
       "</table>\n"
      ],
      "text/latex": [
       "A data.frame: 6 × 8\n",
       "\\begin{tabular}{r|llllllll}\n",
       "  & pregnant & glucose & pressure & triceps & mass & pedigree & age & diabetes\\\\\n",
       "  & <dbl> & <dbl> & <dbl> & <dbl> & <dbl> & <dbl> & <dbl> & <fct>\\\\\n",
       "\\hline\n",
       "\t1 & 6 & 148 & 72 & 35 & 33.6 & 0.627 & 50 & pos\\\\\n",
       "\t2 & 1 &  85 & 66 & 29 & 26.6 & 0.351 & 31 & neg\\\\\n",
       "\t4 & 1 &  89 & 66 & 23 & 28.1 & 0.167 & 21 & neg\\\\\n",
       "\t5 & 0 & 137 & 40 & 35 & 43.1 & 2.288 & 33 & pos\\\\\n",
       "\t7 & 3 &  78 & 50 & 32 & 31.0 & 0.248 & 26 & pos\\\\\n",
       "\t9 & 2 & 197 & 70 & 45 & 30.5 & 0.158 & 53 & pos\\\\\n",
       "\\end{tabular}\n"
      ],
      "text/markdown": [
       "\n",
       "A data.frame: 6 × 8\n",
       "\n",
       "| <!--/--> | pregnant &lt;dbl&gt; | glucose &lt;dbl&gt; | pressure &lt;dbl&gt; | triceps &lt;dbl&gt; | mass &lt;dbl&gt; | pedigree &lt;dbl&gt; | age &lt;dbl&gt; | diabetes &lt;fct&gt; |\n",
       "|---|---|---|---|---|---|---|---|---|\n",
       "| 1 | 6 | 148 | 72 | 35 | 33.6 | 0.627 | 50 | pos |\n",
       "| 2 | 1 |  85 | 66 | 29 | 26.6 | 0.351 | 31 | neg |\n",
       "| 4 | 1 |  89 | 66 | 23 | 28.1 | 0.167 | 21 | neg |\n",
       "| 5 | 0 | 137 | 40 | 35 | 43.1 | 2.288 | 33 | pos |\n",
       "| 7 | 3 |  78 | 50 | 32 | 31.0 | 0.248 | 26 | pos |\n",
       "| 9 | 2 | 197 | 70 | 45 | 30.5 | 0.158 | 53 | pos |\n",
       "\n"
      ],
      "text/plain": [
       "  pregnant glucose pressure triceps mass pedigree age diabetes\n",
       "1 6        148     72       35      33.6 0.627    50  pos     \n",
       "2 1         85     66       29      26.6 0.351    31  neg     \n",
       "4 1         89     66       23      28.1 0.167    21  neg     \n",
       "5 0        137     40       35      43.1 2.288    33  pos     \n",
       "7 3         78     50       32      31.0 0.248    26  pos     \n",
       "9 2        197     70       45      30.5 0.158    53  pos     "
      ]
     },
     "metadata": {},
     "output_type": "display_data"
    },
    {
     "data": {
      "text/html": [
       "<style>\n",
       ".list-inline {list-style: none; margin:0; padding: 0}\n",
       ".list-inline>li {display: inline-block}\n",
       ".list-inline>li:not(:last-child)::after {content: \"\\00b7\"; padding: 0 .5ex}\n",
       "</style>\n",
       "<ol class=list-inline><li>532</li><li>8</li></ol>\n"
      ],
      "text/latex": [
       "\\begin{enumerate*}\n",
       "\\item 532\n",
       "\\item 8\n",
       "\\end{enumerate*}\n"
      ],
      "text/markdown": [
       "1. 532\n",
       "2. 8\n",
       "\n",
       "\n"
      ],
      "text/plain": [
       "[1] 532   8"
      ]
     },
     "metadata": {},
     "output_type": "display_data"
    },
    {
     "name": "stdout",
     "output_type": "stream",
     "text": [
      "'data.frame':\t532 obs. of  8 variables:\n",
      " $ pregnant: num  6 1 1 0 3 2 1 5 0 1 ...\n",
      " $ glucose : num  148 85 89 137 78 197 189 166 118 103 ...\n",
      " $ pressure: num  72 66 66 40 50 70 60 72 84 30 ...\n",
      " $ triceps : num  35 29 23 35 32 45 23 19 47 38 ...\n",
      " $ mass    : num  33.6 26.6 28.1 43.1 31 30.5 30.1 25.8 45.8 43.3 ...\n",
      " $ pedigree: num  0.627 0.351 0.167 2.288 0.248 ...\n",
      " $ age     : num  50 31 21 33 26 53 59 51 31 33 ...\n",
      " $ diabetes: Factor w/ 2 levels \"neg\",\"pos\": 2 1 1 2 2 2 2 2 2 1 ...\n",
      " - attr(*, \"na.action\")= 'omit' Named int [1:236] 3 6 8 10 11 12 13 16 18 22 ...\n",
      "  ..- attr(*, \"names\")= chr [1:236] \"3\" \"6\" \"8\" \"10\" ...\n"
     ]
    }
   ],
   "source": [
    "install.packages(\"boot\")\n",
    "install.packages(\"mlbench\")\n",
    "install.packages(\"tidyverse\")\n",
    "install.packages(\"ggplot2\")\n",
    "install.packages(\"vctrs\", dependencies = TRUE)\n",
    "install.packages(\"dplyr\")\n",
    "library(tidyverse)\n",
    "library(boot)\n",
    "library(mlbench)\n",
    "library(ggplot2)\n",
    "library(dplyr)\n",
    "data(PimaIndiansDiabetes2)\n",
    "data <- PimaIndiansDiabetes2\n",
    "data <- data %>% select(-c(insulin))\n",
    "data <- na.omit(data)\n",
    "data_new <- data\n",
    "\n",
    "head(data_new)\n",
    "dim(data_new)\n",
    "str(data_new)\n",
    "\n"
   ]
  },
  {
   "cell_type": "markdown",
   "metadata": {
    "id": "_BRVQiWSmtDh"
   },
   "source": [
    "(Note that in medical contexts, `pedigree` refers to a system of measuring family history of a condition. So here, higher numbers mean greater family history of diabetes. You can read more about this dataset [here](https://rdrr.io/cran/mlbench/man/PimaIndiansDiabetes.html).)\n",
    "\n",
    "# 2. Leave-one-out Cross Validation (4 pts)\n",
    "\n",
    "In the tutorial, we learned how to fit leave-one-out cross validation using the `cv.glm` function from the `boot` package. But we can also do this manually using `predict()` like we have in the past.\n",
    "\n",
    "Let's predict `diabetes`, a dichotomous outcome, using all the other variables in our modified dataset.\n",
    "\n",
    "First, fit a logistic regression model using all of the observations except the very first one. Then use your fitted model to predict whether your holdout case is positive or negative for diabetes. Remember that logistic regression coefficients are in **log-odds**, meaning that if an output is positive, the probability of the outcome is greater than 50%; if the output is negative, the probability of the outcome is less than 50%.\n",
    "\n",
    "Compare your result to the actual response in row one above. Did your model correctly classify this observation?"
   ]
  },
  {
   "cell_type": "code",
   "execution_count": 19,
   "metadata": {
    "id": "RDyry5h_mtDi",
    "vscode": {
     "languageId": "r"
    }
   },
   "outputs": [
    {
     "data": {
      "text/html": [
       "<strong>1:</strong> 0.729486981746287"
      ],
      "text/latex": [
       "\\textbf{1:} 0.729486981746287"
      ],
      "text/markdown": [
       "**1:** 0.729486981746287"
      ],
      "text/plain": [
       "       1 \n",
       "0.729487 "
      ]
     },
     "metadata": {},
     "output_type": "display_data"
    },
    {
     "data": {
      "text/html": [
       "<strong>1:</strong> 'pos'"
      ],
      "text/latex": [
       "\\textbf{1:} 'pos'"
      ],
      "text/markdown": [
       "**1:** 'pos'"
      ],
      "text/plain": [
       "    1 \n",
       "\"pos\" "
      ]
     },
     "metadata": {},
     "output_type": "display_data"
    },
    {
     "name": "stdout",
     "output_type": "stream",
     "text": [
      "[1] \"Predicted probability of diabetes for holdout index 1 : 0.729486981746287\"\n",
      "[1] \"Actual class of diabetes for holdout index 1 : pos\"\n"
     ]
    }
   ],
   "source": [
    "#index for first prediction \n",
    "holdout_index <- 1 \n",
    "\n",
    "#logistic regression model on all observations except the holdout index\n",
    "logistic_model <- glm(diabetes ~ ., data = data_new[-holdout_index, ], family = binomial(link = \"logit\"))\n",
    "\n",
    "#predict log odds probability of diabetes for the holdout index\n",
    "predicted_prob <- predict(logistic_model, newdata = data_new[holdout_index, ], type = \"link\")\n",
    "\n",
    "#convert the predicted log odds to probability\n",
    "predicted_prob <- exp(predicted_prob) / (1 + exp(predicted_prob))\n",
    "\n",
    "#display the predicted probability\n",
    "predicted_prob\n",
    "\n",
    "#get the actual class of diabetes for the holdout index\n",
    "actual_class <- data_new[holdout_index, \"diabetes\"]\n",
    "\n",
    "#check if the predicted class matches the actual class\n",
    "predicted_class <- ifelse(predicted_prob > 0.5, \"pos\", \"neg\")\n",
    "predicted_class\n",
    "\n",
    "#print results\n",
    "print(paste(\"Predicted probability of diabetes for holdout index\", holdout_index, \":\", predicted_prob)) \n",
    "print(paste(\"Actual class of diabetes for holdout index\", holdout_index, \":\", actual_class))\n",
    "\n"
   ]
  },
  {
   "cell_type": "markdown",
   "metadata": {
    "id": "sIPpDdd0mtDi"
   },
   "source": [
    "So we just calculated a single iteration of LOOCV. We used 531 rows of our data to fit a model to predict the outcome of the last row.\n",
    "\n",
    "Below, use a `for` loop to iterate through the rest of your dataset doing the same thing. You will need to:\n",
    "* Create a data frame `results` with two columns: one named `actual` which holds the true classification for each observation, and one named `predicted`, which should be filled with `NA`s. This is where you'll store the output of your loop.\n",
    "* Create a loop that runs through each row of your data, pulls that observation out, trains your model on the remaining data, and then tests the fitted model on your test observation.\n",
    "* Store your model *predictions* (\"pos\" or \"neg\" -- not the log-odds) in the `predicted` column of your `results` dataframe\n",
    "\n",
    "After you run your loop, print the first few lines of `results`."
   ]
  },
  {
   "cell_type": "code",
   "execution_count": 9,
   "metadata": {
    "id": "5Z1ijm_PmtDj",
    "vscode": {
     "languageId": "r"
    }
   },
   "outputs": [
    {
     "data": {
      "text/html": [
       "<table class=\"dataframe\">\n",
       "<caption>A data.frame: 6 × 3</caption>\n",
       "<thead>\n",
       "\t<tr><th></th><th scope=col>index</th><th scope=col>actual</th><th scope=col>predicted</th></tr>\n",
       "\t<tr><th></th><th scope=col>&lt;int&gt;</th><th scope=col>&lt;fct&gt;</th><th scope=col>&lt;chr&gt;</th></tr>\n",
       "</thead>\n",
       "<tbody>\n",
       "\t<tr><th scope=row>1</th><td>1</td><td>pos</td><td>pos</td></tr>\n",
       "\t<tr><th scope=row>2</th><td>2</td><td>neg</td><td>neg</td></tr>\n",
       "\t<tr><th scope=row>3</th><td>3</td><td>neg</td><td>neg</td></tr>\n",
       "\t<tr><th scope=row>4</th><td>4</td><td>pos</td><td>pos</td></tr>\n",
       "\t<tr><th scope=row>5</th><td>5</td><td>pos</td><td>neg</td></tr>\n",
       "\t<tr><th scope=row>6</th><td>6</td><td>pos</td><td>pos</td></tr>\n",
       "</tbody>\n",
       "</table>\n"
      ],
      "text/latex": [
       "A data.frame: 6 × 3\n",
       "\\begin{tabular}{r|lll}\n",
       "  & index & actual & predicted\\\\\n",
       "  & <int> & <fct> & <chr>\\\\\n",
       "\\hline\n",
       "\t1 & 1 & pos & pos\\\\\n",
       "\t2 & 2 & neg & neg\\\\\n",
       "\t3 & 3 & neg & neg\\\\\n",
       "\t4 & 4 & pos & pos\\\\\n",
       "\t5 & 5 & pos & neg\\\\\n",
       "\t6 & 6 & pos & pos\\\\\n",
       "\\end{tabular}\n"
      ],
      "text/markdown": [
       "\n",
       "A data.frame: 6 × 3\n",
       "\n",
       "| <!--/--> | index &lt;int&gt; | actual &lt;fct&gt; | predicted &lt;chr&gt; |\n",
       "|---|---|---|---|\n",
       "| 1 | 1 | pos | pos |\n",
       "| 2 | 2 | neg | neg |\n",
       "| 3 | 3 | neg | neg |\n",
       "| 4 | 4 | pos | pos |\n",
       "| 5 | 5 | pos | neg |\n",
       "| 6 | 6 | pos | pos |\n",
       "\n"
      ],
      "text/plain": [
       "  index actual predicted\n",
       "1 1     pos    pos      \n",
       "2 2     neg    neg      \n",
       "3 3     neg    neg      \n",
       "4 4     pos    pos      \n",
       "5 5     pos    neg      \n",
       "6 6     pos    pos      "
      ]
     },
     "metadata": {},
     "output_type": "display_data"
    }
   ],
   "source": [
    "# Initialize `results` data frame\n",
    "n <- nrow(data_new)\n",
    "results <- data.frame(index = 1:n, actual = data_new$diabetes, predicted = NA)\n",
    "\n",
    "#for loop\n",
    "for (i in 1:nrow(data_new)){ #don't forget to change this to your data set name\n",
    "    # separate individual observation `i` from the rest of your data\n",
    "    train_data <- data_new[-i, ]\n",
    "    test_data <- data_new[i, ]\n",
    "\n",
    "    # train your model\n",
    "    model <- glm(diabetes ~ ., data = data_new[-i, ], family = binomial(link = \"logit\"))\n",
    "\n",
    "    # test model on hold out observation\n",
    "    prediction_log_odds <- predict(model, newdata = data_new[i, ], type = \"link\")\n",
    "\n",
    "    # classify model prediction as \"pos\" or \"neg\" and add to `results`\n",
    "    results$predicted[i] <- ifelse(prediction_log_odds > 0.0, \"pos\", \"neg\")\n",
    "\n",
    "}\n",
    "\n",
    "# print first few results\n",
    "head(results)"
   ]
  },
  {
   "cell_type": "markdown",
   "metadata": {
    "id": "42Jng_EEmtDk"
   },
   "source": [
    "Now, calculate the overall error of your model. What proportion of cases were incorrectly classified?"
   ]
  },
  {
   "cell_type": "code",
   "execution_count": 12,
   "metadata": {
    "id": "SYhKS5HimtDk",
    "vscode": {
     "languageId": "r"
    }
   },
   "outputs": [
    {
     "name": "stdout",
     "output_type": "stream",
     "text": [
      "[1] \"Error rate of the model: 0.2218\"\n",
      "[1] \"Accuracy of the model: 0.7782\"\n"
     ]
    }
   ],
   "source": [
    "# After the loop, calculate the accuracy\n",
    "accuracy <- mean(results$actual == results$predicted)\n",
    "\n",
    "# Calculate the error rate\n",
    "error_rate <- 1 - accuracy\n",
    "\n",
    "# print results\n",
    "print(paste(\"Error rate of the model:\", round(1 - accuracy, 4)))\n",
    "print(paste(\"Accuracy of the model:\", round(1 - error_rate, 4)))\n",
    "\n"
   ]
  },
  {
   "cell_type": "markdown",
   "metadata": {
    "id": "W1TwL8BimtDl"
   },
   "source": [
    "# 3. Compare to `cv.glm` (3 pts)\n",
    "\n",
    "Now, let's compare this result to the `cv.glm` function. Using the tutorial as a guide, use `cv.glm` to run LOOCV on the data, using the same model (i.e., still using all of the variables to predict diabetes diagnosis).\n",
    "\n",
    "Note that, because this is a `classification` problem and not a regression problem like in the tutorial, we need to adjust the `cost` argument of `cv.glm`. We can read more about this in the docs:"
   ]
  },
  {
   "cell_type": "code",
   "execution_count": null,
   "metadata": {
    "id": "wIUAW1AtmtDl",
    "vscode": {
     "languageId": "r"
    }
   },
   "outputs": [],
   "source": [
    "#?cv.glm"
   ]
  },
  {
   "cell_type": "markdown",
   "metadata": {
    "id": "SWhbyxtymtDl"
   },
   "source": [
    "Here, we see `cost` is defined as:\n",
    "> \"A function of two vector arguments specifying the cost function for the cross-validation. The first argument to cost should correspond to the **observed responses** and the second argument should correspond to the **predicted or fitted responses** from the generalized linear model.\"\n",
    "\n",
    "In the example code (scroll to bottom of the docs), we see that the appropriate cost function for a binary classification is\n",
    "\n",
    "``\n",
    "cost <- function(r, pi = 0) mean(abs(r-pi) > 0.5)\n",
    "``\n",
    "\n",
    "Where `r` is the vector of observed responses (technically \"pos\" and \"neg\", but R treats these as 1 and 0 under the hood), and `pi` is the vector of *probabilities* (not log-odds) fit by the model. Thus, this boils down to our error: what proportion of observations were incorrectly classified. You will need to include this code below."
   ]
  },
  {
   "cell_type": "code",
   "execution_count": 24,
   "metadata": {
    "id": "bJiCmfqomtDl",
    "vscode": {
     "languageId": "r"
    }
   },
   "outputs": [
    {
     "name": "stdout",
     "output_type": "stream",
     "text": [
      "[1] \"Cross-validation error from cv.glm: 0.2218\"\n",
      "[1] \"Error rate from previous calculation 0.2218\"\n"
     ]
    }
   ],
   "source": [
    "# reload the library\n",
    "library(boot)\n",
    "\n",
    "# define the cost function\n",
    "#this function calculates the misclassification error\n",
    "cost <- function(r, pi = 0) mean(abs(r-pi) > 0.5)\n",
    "\n",
    "# fit the logistic regression model\n",
    "logistic_model <- glm(diabetes ~ ., data = data_new, family = binomial(link = \"logit\"))\n",
    "\n",
    "# perform cross-validation\n",
    "cv_results <- cv.glm(data_new, logistic_model, cost)\n",
    "\n",
    "# print the cross-validation error\n",
    "cv_error_rate <- cv_results$delta[1]\n",
    "print(paste(\"Cross-validation error from cv.glm:\", round(cv_error_rate, 4)))\n",
    "print(paste(\"Error rate from previous calculation\", round(error_rate, 4)))\n"
   ]
  },
  {
   "cell_type": "markdown",
   "metadata": {
    "id": "IcEuGX3FmtDm"
   },
   "source": [
    "How do your results compare to your manual LOOCV above?\n",
    "\n",
    "> * *They match exactly.*\n"
   ]
  },
  {
   "cell_type": "markdown",
   "metadata": {
    "id": "6Y2tL4NpmtDm"
   },
   "source": [
    "# 4. Adjusting K and Reflection (2 pts)\n",
    "\n",
    "Recall that LOOCV has some drawbacks. In particular, it has quite high *variance* which can lead to poor performance on new test data. We can reduce this variance by increasing K.\n",
    "\n",
    "Below, re-run your cross validation using `cv.glm` with `k` set to 3, 5, 10, and 15."
   ]
  },
  {
   "cell_type": "code",
   "execution_count": 29,
   "metadata": {
    "id": "vZYq_NQlmtDm",
    "scrolled": true,
    "vscode": {
     "languageId": "r"
    }
   },
   "outputs": [
    {
     "name": "stdout",
     "output_type": "stream",
     "text": [
      "[1] \"Cross-validation error from cv.glm with K = 3: 0.2105\"\n",
      "[1] \"Cross-validation error from cv.glm with K = 5: 0.2162\"\n",
      "[1] \"Cross-validation error from cv.glm with K = 10: 0.2237\"\n",
      "[1] \"Cross-validation error from cv.glm with K = 15: 0.2274\"\n"
     ]
    }
   ],
   "source": [
    "set.seed(1)\n",
    "#INSERT CODE BELOW\n",
    "\n",
    "# reload the library\n",
    "library(boot)\n",
    "\n",
    "# define the cost function\n",
    "#this function calculates the misclassification error\n",
    "cost <- function(r, pi = 0) mean(abs(r-pi) > 0.5)\n",
    "\n",
    "# fit the logistic regression model\n",
    "logistic_model <- glm(diabetes ~ ., data = data_new, family = binomial(link = \"logit\"))\n",
    "\n",
    "# K = 3\n",
    "cv_results_k3 <- cv.glm(data_new, logistic_model, cost, K = 3)\n",
    "\n",
    "# K = 5\n",
    "cv_results_k5 <- cv.glm(data_new, logistic_model, cost, K = 5)\n",
    "\n",
    "# K = 10\n",
    "cv_results_k10 <- cv.glm(data_new, logistic_model, cost, K = 10)\n",
    "\n",
    "# K = 15\n",
    "cv_results_k15 <- cv.glm(data_new, logistic_model, cost, K = 15)\n",
    "\n",
    "# results\n",
    "print(paste(\"Cross-validation error from cv.glm with K = 3:\", round(cv_results_k3$delta[1], 4)))\n",
    "print(paste(\"Cross-validation error from cv.glm with K = 5:\", round(cv_results_k5$delta[1], 4)))\n",
    "print(paste(\"Cross-validation error from cv.glm with K = 10:\", round(cv_results_k10$delta[1], 4)))\n",
    "print(paste(\"Cross-validation error from cv.glm with K = 15:\", round(cv_results_k15$delta[1], 4)))"
   ]
  },
  {
   "cell_type": "markdown",
   "metadata": {
    "id": "fI5Y1OqOmtDn"
   },
   "source": [
    "#### Reflection\n",
    "\n",
    "How do your errors compare to your LOOCV error above? How do they change as k increases?\n",
    "> * *As K increases, the error rate also increases, with k = 3 and k = 5 having lower rates than the LOOCV error and k = 10 and k = 15 higher than the LOOCV.*\n",
    "\n",
    "\n",
    "If you change the random seed above, you'll get slightly different errors. If you were to do the same with your LOOCV above , would you expect to get different results each time? Why or why not?\n",
    ">  *I wouldn't expect different results b/c the default k is k=n so each entry is its own test and therefore used only once.*\n"
   ]
  },
  {
   "cell_type": "markdown",
   "metadata": {
    "id": "zZQybbDca6Wx"
   },
   "source": [
    "\n",
    "**DUE:** 5pm March 25, 2024\n",
    "\n",
    "**IMPORTANT** Did you collaborate with anyone on this assignment? If so, list their names here.\n",
    "> *my coding tutor, claude.ai*\n",
    ">\n",
    ">\n"
   ]
  }
 ],
 "metadata": {
  "colab": {
   "provenance": [
    {
     "file_id": "https://github.com/CoAxLab/Data-Explorations/blob/main/book/exercises/cross-validation.ipynb",
     "timestamp": 1738713903307
    }
   ]
  },
  "kernelspec": {
   "display_name": "R",
   "language": "R",
   "name": "ir"
  },
  "language_info": {
   "codemirror_mode": "r",
   "file_extension": ".r",
   "mimetype": "text/x-r-source",
   "name": "R",
   "pygments_lexer": "r",
   "version": "4.2.3"
  }
 },
 "nbformat": 4,
 "nbformat_minor": 0
}
